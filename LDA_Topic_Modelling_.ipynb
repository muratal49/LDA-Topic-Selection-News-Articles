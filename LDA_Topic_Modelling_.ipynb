{
  "nbformat": 4,
  "nbformat_minor": 0,
  "metadata": {
    "colab": {
      "provenance": [],
      "authorship_tag": "ABX9TyNphDJbGxLf7pTHuw2DDwun",
      "include_colab_link": true
    },
    "kernelspec": {
      "name": "python3",
      "display_name": "Python 3"
    },
    "language_info": {
      "name": "python"
    }
  },
  "cells": [
    {
      "cell_type": "markdown",
      "metadata": {
        "id": "view-in-github",
        "colab_type": "text"
      },
      "source": [
        "<a href=\"https://colab.research.google.com/github/muratal49/LDA-Topic-Selection-News-Articles/blob/main/LDA_Topic_Modelling_.ipynb\" target=\"_parent\"><img src=\"https://colab.research.google.com/assets/colab-badge.svg\" alt=\"Open In Colab\"/></a>"
      ]
    },
    {
      "cell_type": "markdown",
      "source": [
        "We will be working on news articles and classify them buy their topics which can more than one depending on the content.  \n",
        "**LDA models** start with the approach that both documents have a distribution of different topics, and each word in the corpus have different  distribution for each specific topic.\n",
        "\n",
        "In this project, we will work on the scikit-learns News data set that has 3899 articles from 20 different Newsgroups."
      ],
      "metadata": {
        "id": "wf2PT1Tnz-0V"
      }
    },
    {
      "cell_type": "code",
      "source": [
        "#First pulling in the documents:\n",
        "\n",
        "from sklearn.datasets import fetch_20newsgroups\n",
        "\n",
        "# Load dataset (selecting a few categories)\n",
        "categories = ['rec.sport.hockey', 'comp.graphics', 'sci.space', 'talk.politics.mideast']\n",
        "newsgroups = fetch_20newsgroups(subset='all', categories=categories, remove=('headers', 'footers', 'quotes'))\n",
        "\n",
        "# Convert to list of documents\n",
        "documents = newsgroups.data\n",
        "print(f\"Loaded {len(documents)} news articles.\")"
      ],
      "metadata": {
        "id": "ju2Pc4j307ne",
        "outputId": "cfcac129-4393-48c0-e368-ff3efe60cb92",
        "colab": {
          "base_uri": "https://localhost:8080/"
        }
      },
      "execution_count": 3,
      "outputs": [
        {
          "output_type": "stream",
          "name": "stdout",
          "text": [
            "Loaded 3899 news articles.\n"
          ]
        }
      ]
    },
    {
      "cell_type": "code",
      "source": [
        "print(documents[0])"
      ],
      "metadata": {
        "id": "owUtuWAu1X-Y",
        "outputId": "1ff368c5-8bbd-4ade-9b35-9009e16913ed",
        "colab": {
          "base_uri": "https://localhost:8080/"
        }
      },
      "execution_count": 10,
      "outputs": [
        {
          "output_type": "stream",
          "name": "stdout",
          "text": [
            "\n",
            "\n",
            "\n",
            "Hey tough guy, freedom necessitates responsibility, and\n",
            "no freedom is absolute.  \n",
            "BTW, to anyone who defends Arafat, read on:\n",
            "\n",
            "\"Open fire on the new Jewish immigrants, be they from the Soviet\n",
            "Union, Ethiopia or anywhere else....I give you my instructions to\n",
            "use violence against the immigrants.  I willjail anyone who\n",
            "refuses to do this.\"\n",
            "\t\t\t\tYassir Arafat, Al-Muharar, 4/10/90\n",
            "\n",
            "At least he's not racist!\n",
            "Just anti-Jewish\n",
            "\n"
          ]
        }
      ]
    },
    {
      "cell_type": "code",
      "source": [
        "# Required libraries and tools:\n",
        "import nltk\n",
        "import gensim\n",
        "from gensim.utils import simple_preprocess\n",
        "from nltk.corpus import stopwords"
      ],
      "metadata": {
        "id": "ydzHmcuGcjLa"
      },
      "execution_count": 8,
      "outputs": []
    },
    {
      "cell_type": "code",
      "source": [
        "#lets do the first processing:\n",
        "#Tokenization, Stopwors removal and lammatization:\n",
        "\n",
        "nltk.download('stopwords')\n",
        "stop_words = set(stopwords.words('english'))\n",
        "\n",
        "# Tokenization and cleaning\n",
        "def preprocess(text):\n",
        "    return [word for word in simple_preprocess(text) if word not in stop_words]\n",
        "\n",
        "# Apply preprocessing\n",
        "\n",
        "processed_docs = [preprocess(doc) for doc in documents]"
      ],
      "metadata": {
        "id": "EzPQg_ZAz7ro",
        "outputId": "dd14be68-6715-49f8-c8fe-372b55ca22eb",
        "colab": {
          "base_uri": "https://localhost:8080/"
        }
      },
      "execution_count": 19,
      "outputs": [
        {
          "output_type": "stream",
          "name": "stderr",
          "text": [
            "[nltk_data] Downloading package stopwords to /root/nltk_data...\n",
            "[nltk_data]   Package stopwords is already up-to-date!\n"
          ]
        }
      ]
    },
    {
      "cell_type": "code",
      "source": [
        "# stopwords.words('english')[:10]"
      ],
      "metadata": {
        "id": "JKam5Cup3c-Y",
        "outputId": "2cda4d47-972e-47e5-c1b1-2aea2068189e",
        "colab": {
          "base_uri": "https://localhost:8080/"
        }
      },
      "execution_count": 16,
      "outputs": [
        {
          "output_type": "execute_result",
          "data": {
            "text/plain": [
              "['i', 'me', 'my', 'myself', 'we', 'our', 'ours', 'ourselves', 'you', \"you're\"]"
            ]
          },
          "metadata": {},
          "execution_count": 16
        }
      ]
    },
    {
      "cell_type": "code",
      "source": [
        "processed_docs[0][:10]"
      ],
      "metadata": {
        "id": "MCtX6uhY3gZf",
        "outputId": "72d23a77-525f-49bb-ee1c-c926e5bdccc3",
        "colab": {
          "base_uri": "https://localhost:8080/"
        }
      },
      "execution_count": 23,
      "outputs": [
        {
          "output_type": "execute_result",
          "data": {
            "text/plain": [
              "['hey',\n",
              " 'tough',\n",
              " 'guy',\n",
              " 'freedom',\n",
              " 'necessitates',\n",
              " 'responsibility',\n",
              " 'freedom',\n",
              " 'absolute',\n",
              " 'btw',\n",
              " 'anyone']"
            ]
          },
          "metadata": {},
          "execution_count": 23
        }
      ]
    },
    {
      "cell_type": "markdown",
      "source": [
        "the variblae\n",
        "\n",
        "**corpus:** creates a list of size as processed_docs and each element in the list is BOW for that doc"
      ],
      "metadata": {
        "id": "1zGSh9Dw73Jd"
      }
    },
    {
      "cell_type": "code",
      "source": [
        "#Bag of words for our corpus:\n",
        "from gensim.corpora import Dictionary\n",
        "\n",
        "\n",
        "dictionary = Dictionary(processed_docs)\n",
        "\n",
        "corpus = [dictionary.doc2bow(doc) for doc in processed_docs]"
      ],
      "metadata": {
        "id": "W58wV_sh37gE"
      },
      "execution_count": 25,
      "outputs": []
    },
    {
      "cell_type": "code",
      "source": [
        "once_tokens = [dictionary[token_id] for token_id, freq in dictionary.dfs.items() if freq == 1]\n"
      ],
      "metadata": {
        "collapsed": true,
        "id": "M61vNH_q5Pps"
      },
      "execution_count": 31,
      "outputs": []
    },
    {
      "cell_type": "code",
      "source": [
        "once_tokens[:10]"
      ],
      "metadata": {
        "id": "nmjXc-Qw6VnR",
        "outputId": "4a2a8e79-6c8b-4692-fc29-cdf632ca6b1b",
        "colab": {
          "base_uri": "https://localhost:8080/"
        }
      },
      "execution_count": 32,
      "outputs": [
        {
          "output_type": "execute_result",
          "data": {
            "text/plain": [
              "['necessitates',\n",
              " 'willjail',\n",
              " 'liverpool',\n",
              " 'vanecek',\n",
              " 'tres',\n",
              " 'spif',\n",
              " 'newsfeed',\n",
              " 'spalling',\n",
              " 'lasts',\n",
              " 'inconvienenced']"
            ]
          },
          "metadata": {},
          "execution_count": 32
        }
      ]
    },
    {
      "cell_type": "markdown",
      "source": [
        "# It is time to train our **LDA** Model:"
      ],
      "metadata": {
        "id": "si0dBx3N5C-N"
      }
    },
    {
      "cell_type": "code",
      "source": [
        "from gensim.models import LdaModel\n",
        "\n",
        "# Train the LDA model\n",
        "# Num of topics is used entry: We select 4, LDA will cluster docs into 4, you can also name\n",
        "#them later when you see what those clusters are about.\n",
        "lda_model = LdaModel(corpus=corpus, num_topics=4, id2word=dictionary, passes=10)\n",
        "\n",
        "# Print the top words for each topic\n",
        "topics = lda_model.print_topics(num_words=5)\n",
        "for topic in topics:\n",
        "    print(topic)"
      ],
      "metadata": {
        "id": "RaBfbUmg45k2",
        "outputId": "2961795d-d5ce-4cef-ae45-c6898684a492",
        "colab": {
          "base_uri": "https://localhost:8080/"
        }
      },
      "execution_count": 60,
      "outputs": [
        {
          "output_type": "stream",
          "name": "stderr",
          "text": [
            "/usr/local/lib/python3.11/dist-packages/ipykernel/ipkernel.py:283: DeprecationWarning: `should_run_async` will not call `transform_cell` automatically in the future. Please pass the result to `transformed_cell` argument and any exception that happen during thetransform in `preprocessing_exc_tuple` in IPython 7.17 and above.\n",
            "  and should_run_async(code)\n"
          ]
        },
        {
          "output_type": "stream",
          "name": "stdout",
          "text": [
            "(0, '0.007*\"space\" + 0.005*\"people\" + 0.005*\"israel\" + 0.004*\"jews\" + 0.003*\"armenian\"')\n",
            "(1, '0.007*\"pit\" + 0.006*\"la\" + 0.006*\"det\" + 0.006*\"gm\" + 0.006*\"period\"')\n",
            "(2, '0.008*\"game\" + 0.007*\"said\" + 0.007*\"people\" + 0.005*\"like\" + 0.005*\"know\"')\n",
            "(3, '0.011*\"image\" + 0.008*\"edu\" + 0.008*\"graphics\" + 0.008*\"jpeg\" + 0.006*\"file\"')\n"
          ]
        }
      ]
    },
    {
      "cell_type": "markdown",
      "source": [
        "So from above we can see that\n",
        "*   0: Politics\n",
        "*   1: Science\n",
        "*   2: Computers\n",
        "*   3: Sports\n",
        "\n"
      ],
      "metadata": {
        "id": "Dr6x8Z-G8n7A"
      }
    },
    {
      "cell_type": "code",
      "source": [
        "new_doc = \"NASA is planning a mission to Mars next year using the advanced computer graphics date processing .\"\n",
        "bow_new_doc = dictionary.doc2bow(preprocess(new_doc))\n",
        "\n",
        "# Get topic distribution\n",
        "topic_distribution = lda_model[bow_new_doc]\n",
        "print(topic_distribution)"
      ],
      "metadata": {
        "id": "QzaCxeda81gW",
        "outputId": "474f6efb-3bfe-4d9b-a4ec-fa6bbe5a11ed",
        "colab": {
          "base_uri": "https://localhost:8080/"
        }
      },
      "execution_count": 47,
      "outputs": [
        {
          "output_type": "stream",
          "name": "stdout",
          "text": [
            "[(0, 0.019474424), (1, 0.68809474), (2, 0.27263343), (3, 0.01979741)]\n"
          ]
        }
      ]
    },
    {
      "cell_type": "code",
      "source": [
        "pip install pyLDAvis"
      ],
      "metadata": {
        "id": "cToMcX509spY",
        "outputId": "127f0516-6d41-40f4-b1e1-785ba9234cad",
        "colab": {
          "base_uri": "https://localhost:8080/"
        }
      },
      "execution_count": 50,
      "outputs": [
        {
          "output_type": "stream",
          "name": "stdout",
          "text": [
            "Collecting pyLDAvis\n",
            "  Downloading pyLDAvis-3.4.1-py3-none-any.whl.metadata (4.2 kB)\n",
            "Requirement already satisfied: numpy>=1.24.2 in /usr/local/lib/python3.11/dist-packages (from pyLDAvis) (1.26.4)\n",
            "Requirement already satisfied: scipy in /usr/local/lib/python3.11/dist-packages (from pyLDAvis) (1.13.1)\n",
            "Requirement already satisfied: pandas>=2.0.0 in /usr/local/lib/python3.11/dist-packages (from pyLDAvis) (2.2.2)\n",
            "Requirement already satisfied: joblib>=1.2.0 in /usr/local/lib/python3.11/dist-packages (from pyLDAvis) (1.4.2)\n",
            "Requirement already satisfied: jinja2 in /usr/local/lib/python3.11/dist-packages (from pyLDAvis) (3.1.5)\n",
            "Requirement already satisfied: numexpr in /usr/local/lib/python3.11/dist-packages (from pyLDAvis) (2.10.2)\n",
            "Collecting funcy (from pyLDAvis)\n",
            "  Downloading funcy-2.0-py2.py3-none-any.whl.metadata (5.9 kB)\n",
            "Requirement already satisfied: scikit-learn>=1.0.0 in /usr/local/lib/python3.11/dist-packages (from pyLDAvis) (1.6.1)\n",
            "Requirement already satisfied: gensim in /usr/local/lib/python3.11/dist-packages (from pyLDAvis) (4.3.3)\n",
            "Requirement already satisfied: setuptools in /usr/local/lib/python3.11/dist-packages (from pyLDAvis) (75.1.0)\n",
            "Requirement already satisfied: python-dateutil>=2.8.2 in /usr/local/lib/python3.11/dist-packages (from pandas>=2.0.0->pyLDAvis) (2.8.2)\n",
            "Requirement already satisfied: pytz>=2020.1 in /usr/local/lib/python3.11/dist-packages (from pandas>=2.0.0->pyLDAvis) (2025.1)\n",
            "Requirement already satisfied: tzdata>=2022.7 in /usr/local/lib/python3.11/dist-packages (from pandas>=2.0.0->pyLDAvis) (2025.1)\n",
            "Requirement already satisfied: threadpoolctl>=3.1.0 in /usr/local/lib/python3.11/dist-packages (from scikit-learn>=1.0.0->pyLDAvis) (3.5.0)\n",
            "Requirement already satisfied: smart-open>=1.8.1 in /usr/local/lib/python3.11/dist-packages (from gensim->pyLDAvis) (7.1.0)\n",
            "Requirement already satisfied: MarkupSafe>=2.0 in /usr/local/lib/python3.11/dist-packages (from jinja2->pyLDAvis) (3.0.2)\n",
            "Requirement already satisfied: six>=1.5 in /usr/local/lib/python3.11/dist-packages (from python-dateutil>=2.8.2->pandas>=2.0.0->pyLDAvis) (1.17.0)\n",
            "Requirement already satisfied: wrapt in /usr/local/lib/python3.11/dist-packages (from smart-open>=1.8.1->gensim->pyLDAvis) (1.17.2)\n",
            "Downloading pyLDAvis-3.4.1-py3-none-any.whl (2.6 MB)\n",
            "\u001b[2K   \u001b[90m━━━━━━━━━━━━━━━━━━━━━━━━━━━━━━━━━━━━━━━━\u001b[0m \u001b[32m2.6/2.6 MB\u001b[0m \u001b[31m23.3 MB/s\u001b[0m eta \u001b[36m0:00:00\u001b[0m\n",
            "\u001b[?25hDownloading funcy-2.0-py2.py3-none-any.whl (30 kB)\n",
            "Installing collected packages: funcy, pyLDAvis\n",
            "Successfully installed funcy-2.0 pyLDAvis-3.4.1\n"
          ]
        }
      ]
    },
    {
      "cell_type": "code",
      "source": [
        "import pyLDAvis.gensim\n",
        "\n",
        "# Prepare visualization\n",
        "pyLDAvis.enable_notebook()\n",
        "vis = pyLDAvis.gensim.prepare(lda_model, corpus, dictionary)\n",
        "vis"
      ],
      "metadata": {
        "id": "g9cRpMl--BCE",
        "outputId": "42eb2d73-e3cc-4872-f97c-cb7e64dd7e3c",
        "colab": {
          "base_uri": "https://localhost:8080/",
          "height": 861
        }
      },
      "execution_count": 51,
      "outputs": [
        {
          "output_type": "execute_result",
          "data": {
            "text/plain": [
              "PreparedData(topic_coordinates=              x         y  topics  cluster       Freq\n",
              "topic                                                \n",
              "0     -0.059176  0.175465       1        1  33.887077\n",
              "1      0.041457  0.042542       2        1  28.433147\n",
              "2      0.210025 -0.082778       3        1  21.853653\n",
              "3     -0.192305 -0.135229       4        1  15.826123, topic_info=          Term         Freq        Total Category  logprob  loglift\n",
              "158      image  1150.000000  1150.000000  Default  30.0000  30.0000\n",
              "526      space  1367.000000  1367.000000  Default  29.0000  29.0000\n",
              "1619  graphics   803.000000   803.000000  Default  28.0000  28.0000\n",
              "699       game   750.000000   750.000000  Default  27.0000  27.0000\n",
              "5736      jpeg   774.000000   774.000000  Default  26.0000  26.0000\n",
              "...        ...          ...          ...      ...      ...      ...\n",
              "938       last   206.505541   643.127151   Topic4  -5.9052   0.7075\n",
              "21         new   215.247822   903.472821   Topic4  -5.8637   0.4091\n",
              "261        one   195.678845  2137.761674   Topic4  -5.9591  -0.5475\n",
              "437      april   163.359414   340.012402   Topic4  -6.1396   1.1105\n",
              "751        two   171.141924   931.722701   Topic4  -6.0930   0.1490\n",
              "\n",
              "[310 rows x 6 columns], token_table=       Topic      Freq         Term\n",
              "term                               \n",
              "17651      4  0.998086          adl\n",
              "11097      2  0.987657  advertising\n",
              "65         1  0.282626         also\n",
              "65         2  0.323522         also\n",
              "65         3  0.319140         also\n",
              "...      ...       ...          ...\n",
              "543        1  0.458361        years\n",
              "543        2  0.413149        years\n",
              "543        3  0.020268        years\n",
              "543        4  0.107575        years\n",
              "8202       3  0.996731          zip\n",
              "\n",
              "[586 rows x 3 columns], R=30, lambda_step=0.01, plot_opts={'xlab': 'PC1', 'ylab': 'PC2'}, topic_order=[1, 2, 3, 4])"
            ],
            "text/html": [
              "\n",
              "<link rel=\"stylesheet\" type=\"text/css\" href=\"https://cdn.jsdelivr.net/gh/bmabey/pyLDAvis@3.4.0/pyLDAvis/js/ldavis.v1.0.0.css\">\n",
              "\n",
              "\n",
              "<div id=\"ldavis_el2201340572734475202104436049\" style=\"background-color:white;\"></div>\n",
              "<script type=\"text/javascript\">\n",
              "\n",
              "var ldavis_el2201340572734475202104436049_data = {\"mdsDat\": {\"x\": [-0.05917635917167774, 0.04145682752705038, 0.21002455507646664, -0.19230502343183914], \"y\": [0.17546470938749426, 0.042541809203501625, -0.08277799154510211, -0.13522852704589375], \"topics\": [1, 2, 3, 4], \"cluster\": [1, 1, 1, 1], \"Freq\": [33.88707652949014, 28.43314676086306, 21.85365337116181, 15.826123338484996]}, \"tinfo\": {\"Term\": [\"image\", \"space\", \"graphics\", \"game\", \"jpeg\", \"armenian\", \"team\", \"file\", \"edu\", \"armenians\", \"israel\", \"images\", \"ftp\", \"gif\", \"jews\", \"hockey\", \"turkish\", \"software\", \"play\", \"season\", \"format\", \"data\", \"games\", \"pub\", \"files\", \"available\", \"color\", \"period\", \"pit\", \"version\", \"jews\", \"turks\", \"turkish\", \"ottoman\", \"sumgait\", \"muslim\", \"kuwait\", \"mamma\", \"greeks\", \"nazi\", \"arabs\", \"armenians\", \"father\", \"religious\", \"muslims\", \"villages\", \"greece\", \"iran\", \"palestinian\", \"peace\", \"armenian\", \"nazis\", \"azerbaijani\", \"jewish\", \"ethnic\", \"israelis\", \"azerbaijanis\", \"israel\", \"war\", \"genocide\", \"israeli\", \"armenia\", \"arab\", \"troops\", \"baku\", \"greek\", \"children\", \"killed\", \"soldiers\", \"azerbaijan\", \"apartment\", \"turkey\", \"population\", \"people\", \"said\", \"government\", \"history\", \"us\", \"one\", \"women\", \"russian\", \"state\", \"rights\", \"would\", \"say\", \"know\", \"even\", \"right\", \"many\", \"like\", \"could\", \"time\", \"first\", \"two\", \"also\", \"well\", \"orbit\", \"lunar\", \"satellites\", \"launch\", \"larson\", \"orbiter\", \"delta\", \"launches\", \"titan\", \"advertising\", \"engines\", \"spacecraft\", \"funding\", \"ssf\", \"temperature\", \"astronaut\", \"oort\", \"redesign\", \"solar\", \"pluto\", \"orbiting\", \"altitude\", \"thermal\", \"saturn\", \"ssto\", \"playback\", \"baseball\", \"centaur\", \"hacker\", \"leo\", \"mars\", \"sky\", \"orbits\", \"gm\", \"moon\", \"orbital\", \"dc\", \"jupiter\", \"mission\", \"space\", \"propulsion\", \"hst\", \"shuttle\", \"atmosphere\", \"earth\", \"satellite\", \"energy\", \"universe\", \"degrees\", \"probe\", \"nasa\", \"missions\", \"venus\", \"planet\", \"surface\", \"would\", \"flight\", \"cost\", \"technology\", \"station\", \"rocket\", \"think\", \"like\", \"much\", \"could\", \"one\", \"get\", \"time\", \"system\", \"good\", \"also\", \"know\", \"may\", \"first\", \"see\", \"make\", \"years\", \"new\", \"way\", \"two\", \"well\", \"year\", \"us\", \"even\", \"people\", \"jpeg\", \"gif\", \"formats\", \"tiff\", \"tar\", \"zip\", \"shareware\", \"amiga\", \"viewer\", \"phigs\", \"jfif\", \"quicktime\", \"msdos\", \"pixel\", \"packages\", \"simtel\", \"ftp\", \"gopher\", \"archie\", \"visualization\", \"os\", \"graphics\", \"pixels\", \"rayshade\", \"xv\", \"quantization\", \"vga\", \"raster\", \"macintosh\", \"postscript\", \"format\", \"pub\", \"image\", \"directory\", \"unix\", \"file\", \"color\", \"server\", \"dos\", \"images\", \"files\", \"user\", \"package\", \"display\", \"version\", \"comp\", \"software\", \"code\", \"edu\", \"pc\", \"processing\", \"available\", \"bit\", \"data\", \"windows\", \"mail\", \"programs\", \"program\", \"use\", \"also\", \"information\", \"free\", \"system\", \"get\", \"one\", \"etc\", \"det\", \"bos\", \"chi\", \"adl\", \"nyi\", \"que\", \"stl\", \"cal\", \"flyers\", \"nyr\", \"blues\", \"bullock\", \"scoring\", \"buffalo\", \"sabres\", \"detroit\", \"edm\", \"winnipeg\", \"sj\", \"lindros\", \"tb\", \"mtl\", \"scorer\", \"ott\", \"puck\", \"soderstrom\", \"wsh\", \"hartford\", \"lemieux\", \"scored\", \"pts\", \"tor\", \"buf\", \"season\", \"rangers\", \"calgary\", \"pittsburgh\", \"islanders\", \"pit\", \"game\", \"play\", \"league\", \"games\", \"team\", \"win\", \"la\", \"nhl\", \"goal\", \"period\", \"hockey\", \"nj\", \"st\", \"vs\", \"players\", \"player\", \"year\", \"first\", \"van\", \"last\", \"new\", \"one\", \"april\", \"two\"], \"Freq\": [1150.0, 1367.0, 803.0, 750.0, 774.0, 959.0, 666.0, 627.0, 1054.0, 793.0, 769.0, 572.0, 489.0, 471.0, 660.0, 497.0, 631.0, 543.0, 399.0, 366.0, 437.0, 717.0, 385.0, 409.0, 471.0, 636.0, 401.0, 396.0, 303.0, 373.0, 659.277284632438, 293.66577701783484, 628.6158578566962, 200.18593988085604, 130.4362381506153, 292.985260703432, 118.97917707482308, 114.50917578199812, 111.95485964696407, 145.72497175862725, 208.47081234968718, 788.1645208497406, 131.1156778182456, 118.08775132424225, 277.92510676064563, 181.00423098447934, 167.28710889200335, 101.68844712608853, 187.76423162968055, 186.87199367188532, 951.9296725977574, 101.8357305157176, 168.2915636651607, 425.194254430649, 97.69022489357332, 103.7186251682958, 105.68079502270447, 763.0954996271935, 370.12826748787404, 295.1671326093278, 454.1806077137221, 334.78852715736116, 360.57074186828464, 147.1050440356209, 143.5379338370773, 276.8091907137209, 331.6181235174177, 323.6247578843859, 268.3111421839275, 304.04846739014437, 154.71620006440207, 341.4564839477804, 253.6888623723858, 1178.7796008962446, 758.5857474022141, 429.7324527966712, 308.0491356885726, 632.0414834473505, 1006.2686774180517, 214.14600637312802, 289.08511721418694, 309.48696912048587, 247.38751325228534, 750.1879781305855, 361.3556362540039, 469.979020237291, 422.06816330523833, 368.12166234342334, 397.15414144085673, 466.37712679257857, 390.1736926468436, 396.69239219521745, 392.2301257594689, 370.1629468470736, 387.122324585155, 360.0863263748025, 281.9366190457761, 192.42044608831904, 132.50461958724478, 365.0356713484238, 69.15374129963145, 82.13859126757737, 55.92796977853803, 54.46245545300766, 63.682627813072, 55.97589179586064, 52.19208104026093, 215.77242712443606, 55.04910098015431, 44.78382054259876, 54.944342142782666, 41.98201294759093, 41.002375181322456, 47.580136619127124, 209.0262274228514, 56.6586428585325, 48.25915138892298, 45.98947034972164, 37.610502737055576, 80.88042336705958, 36.44020309434381, 36.56606029816795, 80.05269383924907, 34.300987221442526, 33.42268104616421, 32.774713562663514, 156.59341501190113, 121.76391470135722, 40.059482250824956, 234.7971549928862, 243.13194876750927, 93.98449396346665, 136.45615146027183, 87.89722100953433, 234.14188133328437, 1248.01989133849, 93.17310427852, 88.49782513668326, 266.3111648889231, 113.63603151694677, 370.3286710386442, 239.6321319296965, 96.13239879742527, 85.32873559361656, 91.09608203157268, 104.02278371293515, 422.9721580676249, 117.66678230806795, 132.2079032554336, 130.86947835757087, 172.31901608151534, 1103.8302713392313, 132.754923474995, 178.36965513944395, 159.4321576251381, 168.60256557531636, 121.84246798084777, 489.65209311842756, 652.119863898078, 365.1322523400944, 425.7836253466536, 676.6778711440998, 457.4612713994019, 437.8000503890936, 307.08137087230807, 332.28805878604857, 443.27188498414023, 372.69343142052355, 328.4687829641359, 337.5369678430514, 315.202352018341, 256.7375859759767, 265.4802101835929, 297.46057916412263, 270.8189963006161, 290.943565173163, 290.6276404130773, 268.4042496293161, 280.35610772720963, 267.1070467792603, 270.7534150496261, 774.2433254979906, 470.3462599592381, 214.00874520137043, 150.37265723842486, 129.74676461134547, 116.67827745046203, 112.00720794263704, 143.8867545565267, 111.90387523699385, 97.28955126402221, 95.76386816659708, 95.71610587273558, 86.62913761245679, 132.637242161125, 83.04071664227905, 75.82709980644594, 484.63562736160463, 75.78067134864104, 71.42818766934278, 83.5616009393864, 66.06052684890294, 795.5523492656071, 71.13035852246358, 67.04633523449743, 96.92757008433978, 58.48899124731313, 60.90838104609745, 58.06082987315239, 60.54042501175064, 88.71466641910759, 431.45276994001205, 403.6204717186109, 1118.763507077387, 172.36791834013485, 169.30264127061233, 606.864855414637, 385.75398745438173, 148.44519714034166, 114.91430058265554, 530.4819235882863, 439.1217303889122, 165.3995446214436, 242.60558119678896, 274.3601613805014, 344.706309569757, 136.49867927318425, 485.20054042973015, 239.4539275840959, 825.6351151715043, 202.96329145089794, 192.0671907953083, 495.3634210510417, 412.1124151049938, 502.80225519144125, 184.93209366012073, 331.7494626596362, 213.22457141161604, 352.97468010698566, 390.0449685012631, 437.034027246772, 267.1494802021079, 221.61450983783672, 258.9921043146282, 282.98263798316066, 259.13628042025033, 218.52571096534393, 246.3166222199053, 210.48139346870124, 195.0142743944162, 188.6204161086397, 155.35705666870558, 151.46451392345958, 147.98425819784956, 147.58012217648357, 152.67424909526773, 126.51238514805871, 128.51120575952828, 111.80008027070909, 110.10237905961341, 135.74450218856467, 114.36676258307996, 153.8617013432339, 92.32270533330525, 91.73246367286829, 79.60346949721735, 83.31385860255357, 75.38277850019145, 72.92014050502314, 71.08570276937802, 66.55274208863058, 141.96217011888, 62.120248636559225, 60.998546892494794, 63.70065133683694, 82.23064915389067, 73.91551500804307, 226.86856970484928, 193.06978494998643, 148.99283837663805, 352.45721033468476, 130.57981267761443, 106.0645385952065, 144.00061657908194, 110.31715433545646, 286.4502852016345, 678.0446372295576, 366.95296682942484, 225.73141723192137, 340.8058699505101, 550.1079445266618, 226.97707325324822, 259.01157266829057, 242.62042679012794, 242.06393590824175, 320.97300915998585, 383.2308985173312, 150.7332000072506, 242.21836380403624, 177.5513957437262, 199.0718307474956, 173.67099128161817, 277.7064164860704, 257.0443415858305, 171.15122131643312, 206.50554116970892, 215.2478220284671, 195.6788453962198, 163.35941389879645, 171.1419235326923], \"Total\": [1150.0, 1367.0, 803.0, 750.0, 774.0, 959.0, 666.0, 627.0, 1054.0, 793.0, 769.0, 572.0, 489.0, 471.0, 660.0, 497.0, 631.0, 543.0, 399.0, 366.0, 437.0, 717.0, 385.0, 409.0, 471.0, 636.0, 401.0, 396.0, 303.0, 373.0, 660.6886119070296, 294.7501734457607, 631.2166325255948, 201.10966387764867, 131.1244053837758, 294.5739126407488, 119.66681798419764, 115.19808040127202, 112.64518071431989, 146.62800666580404, 209.78581564419366, 793.1621610592621, 131.95437425976186, 118.89707650100479, 279.8568768342963, 182.2836370091437, 168.47044990475325, 102.41103564046124, 189.1371141488938, 188.2523933028535, 959.4419596707733, 102.65807207055143, 169.68353316826347, 428.77689930016805, 98.52509799184466, 104.62022083424489, 106.60434894112868, 769.8914036876167, 373.44736208345387, 297.8567427306374, 459.01632638018117, 338.59160015824074, 365.0473086578706, 148.50288395471793, 144.8912266599731, 282.0270896722896, 339.600202243992, 331.71544428349273, 274.39779293729146, 313.08781995971196, 156.47407837941194, 367.007660174592, 267.92319389372346, 1575.9440325633282, 972.5123904667171, 506.5562794586804, 355.44411298298746, 976.3875426476893, 2137.7616743786216, 228.79489505785753, 355.8706665735931, 400.616537373551, 283.5014812622041, 2147.9487012593527, 585.0914770505588, 1111.304311528906, 869.2790626211678, 653.3141501588161, 827.5616494470703, 1425.9020180026132, 984.5476690372424, 1115.9325250843774, 1075.7589016786478, 931.7227006472609, 1369.303188764789, 939.0146947994145, 283.17009417985076, 193.51713715191295, 133.4115068669241, 367.8755506353922, 69.84080639479103, 83.14604558521958, 56.62225246527041, 55.15336160828129, 64.5030122749431, 56.69987483776851, 52.89546561126053, 218.75107163142715, 55.83791082088887, 45.478434136011565, 55.84293183363198, 42.6795797834839, 41.68459375818048, 48.376473446811794, 212.55696579419603, 57.63980335620778, 49.12542186391928, 46.838674091435664, 38.30660297563552, 82.40132175233879, 37.127152809937286, 37.26113303881257, 81.62718156443056, 34.985075268560976, 34.111367365193246, 33.46022582989038, 161.21464814999754, 125.44083400944481, 40.90184261529301, 244.49279649741797, 253.56350089226973, 96.90739448952463, 141.8942621541574, 90.58361310167905, 246.17239803818197, 1367.0073890455214, 96.29778376133532, 91.57936499764402, 285.74000987041006, 118.92287913508244, 407.9050929476131, 261.7095797172114, 100.63774987956309, 88.86266549677842, 95.60381875931513, 110.91040303038329, 511.85919457747207, 128.59318584696445, 147.49496961824914, 146.96376025594898, 209.9020909244525, 2147.9487012593527, 152.17253548693546, 224.2080201083775, 194.6963213752055, 214.43440705626867, 139.03086173553913, 935.5598558985024, 1425.9020180026132, 727.7442316893196, 984.5476690372424, 2137.7616743786216, 1152.7220234492847, 1115.9325250843774, 612.3209589852439, 707.212904311647, 1369.303188764789, 1111.304311528906, 860.6869772709266, 1075.7589016786478, 925.9576949008741, 574.0201033067449, 641.4154284428284, 903.4728205961208, 703.6302231597014, 931.7227006472609, 939.0146947994145, 680.3687706753265, 976.3875426476893, 869.2790626211678, 1575.9440325633282, 774.9847386491673, 471.13424823408826, 214.73262787522822, 151.08110480431978, 130.44619072479395, 117.38376834603658, 112.70305428117597, 144.81724428329224, 112.63846834570492, 97.98119106551495, 96.45415811345569, 96.46690715933858, 87.32553400267078, 133.77934142379863, 83.76023551689282, 76.51779307623507, 489.2187580219427, 76.50622432105907, 72.12947501829527, 84.41469909999812, 66.75906976095723, 803.9650168560253, 71.88255685081754, 67.75916958851232, 98.0163848880819, 59.17914839983058, 61.633184658825705, 58.757532811108945, 61.28193882118478, 89.83934254931542, 437.0064885801722, 409.2331851503675, 1150.9039723426793, 174.6779391305574, 171.64155556079467, 627.9629505333317, 401.1839305143863, 152.48599648946876, 117.32212573770343, 572.8096541857976, 471.05965483983533, 171.09937735070235, 257.0435224602965, 292.6494551705978, 373.81243658169876, 140.79433576311487, 543.697325378613, 259.3280630169184, 1054.65648842804, 223.51508981721534, 209.93726914735564, 636.2758918323332, 523.7972176649463, 717.1661296006956, 204.99462150653588, 450.65713665495304, 261.8606621458013, 595.8438640210433, 730.7105049640862, 1369.303188764789, 587.6192139315857, 361.2343736815262, 612.3209589852439, 1152.7220234492847, 2137.7616743786216, 455.07351802223315, 247.03194006760077, 211.18504192322044, 195.7133730873473, 189.36242766606426, 156.05965652943948, 152.17933454689097, 148.6835011273892, 148.2847093878484, 153.4403774400725, 127.21166410451885, 129.26231111886682, 112.5115399551161, 110.8331041866189, 136.6629945846244, 115.16155051794793, 154.99787258214695, 93.01905535231887, 92.45718755794128, 80.30468110663186, 84.05126685243907, 76.08395541748695, 73.61467780542252, 71.79437807009158, 67.24914771603041, 143.47399898733622, 62.82662635027088, 61.69277996682561, 64.43626560280121, 83.1811023108006, 74.79047952487915, 230.40515407399587, 196.7380923157907, 151.48859240917483, 366.4228486062235, 133.16605152366827, 107.95417910041584, 147.62131347571233, 112.63031526752728, 303.07621670944377, 750.1996117990041, 399.3581502624849, 241.9908501706752, 385.1755620235053, 666.3077833273995, 250.8851371282806, 294.1339202932748, 274.9580539260571, 279.8689949001497, 396.1067724840926, 497.0182997424443, 162.07402451865326, 326.21424562973175, 206.43707541975684, 248.81140220676537, 207.65681623535954, 680.3687706753265, 1075.7589016786478, 272.6193001826104, 643.1271505729324, 903.4728205961208, 2137.7616743786216, 340.01240202917364, 931.7227006472609], \"Category\": [\"Default\", \"Default\", \"Default\", \"Default\", \"Default\", \"Default\", \"Default\", \"Default\", \"Default\", \"Default\", \"Default\", \"Default\", \"Default\", \"Default\", \"Default\", \"Default\", \"Default\", \"Default\", \"Default\", \"Default\", \"Default\", \"Default\", \"Default\", \"Default\", \"Default\", \"Default\", \"Default\", \"Default\", \"Default\", \"Default\", \"Topic1\", \"Topic1\", \"Topic1\", \"Topic1\", \"Topic1\", \"Topic1\", \"Topic1\", \"Topic1\", \"Topic1\", \"Topic1\", \"Topic1\", \"Topic1\", \"Topic1\", \"Topic1\", \"Topic1\", \"Topic1\", \"Topic1\", \"Topic1\", \"Topic1\", \"Topic1\", \"Topic1\", \"Topic1\", \"Topic1\", \"Topic1\", \"Topic1\", \"Topic1\", \"Topic1\", \"Topic1\", \"Topic1\", \"Topic1\", \"Topic1\", \"Topic1\", \"Topic1\", \"Topic1\", \"Topic1\", \"Topic1\", \"Topic1\", \"Topic1\", \"Topic1\", \"Topic1\", \"Topic1\", \"Topic1\", \"Topic1\", \"Topic1\", \"Topic1\", \"Topic1\", \"Topic1\", \"Topic1\", \"Topic1\", \"Topic1\", \"Topic1\", \"Topic1\", \"Topic1\", \"Topic1\", \"Topic1\", \"Topic1\", \"Topic1\", \"Topic1\", \"Topic1\", \"Topic1\", \"Topic1\", \"Topic1\", \"Topic1\", \"Topic1\", \"Topic1\", \"Topic1\", \"Topic2\", \"Topic2\", \"Topic2\", \"Topic2\", \"Topic2\", \"Topic2\", \"Topic2\", \"Topic2\", \"Topic2\", \"Topic2\", \"Topic2\", \"Topic2\", \"Topic2\", \"Topic2\", \"Topic2\", \"Topic2\", \"Topic2\", \"Topic2\", \"Topic2\", \"Topic2\", \"Topic2\", \"Topic2\", \"Topic2\", \"Topic2\", \"Topic2\", \"Topic2\", \"Topic2\", \"Topic2\", \"Topic2\", \"Topic2\", \"Topic2\", \"Topic2\", \"Topic2\", \"Topic2\", \"Topic2\", \"Topic2\", \"Topic2\", \"Topic2\", \"Topic2\", \"Topic2\", \"Topic2\", \"Topic2\", \"Topic2\", \"Topic2\", \"Topic2\", \"Topic2\", \"Topic2\", \"Topic2\", \"Topic2\", \"Topic2\", \"Topic2\", \"Topic2\", \"Topic2\", \"Topic2\", \"Topic2\", \"Topic2\", \"Topic2\", \"Topic2\", \"Topic2\", \"Topic2\", \"Topic2\", \"Topic2\", \"Topic2\", \"Topic2\", \"Topic2\", \"Topic2\", \"Topic2\", \"Topic2\", \"Topic2\", \"Topic2\", \"Topic2\", \"Topic2\", \"Topic2\", \"Topic2\", \"Topic2\", \"Topic2\", \"Topic2\", \"Topic2\", \"Topic2\", \"Topic2\", \"Topic2\", \"Topic2\", \"Topic2\", \"Topic2\", \"Topic2\", \"Topic3\", \"Topic3\", \"Topic3\", \"Topic3\", \"Topic3\", \"Topic3\", \"Topic3\", \"Topic3\", \"Topic3\", \"Topic3\", \"Topic3\", \"Topic3\", \"Topic3\", \"Topic3\", \"Topic3\", \"Topic3\", \"Topic3\", \"Topic3\", \"Topic3\", \"Topic3\", \"Topic3\", \"Topic3\", \"Topic3\", \"Topic3\", \"Topic3\", \"Topic3\", \"Topic3\", \"Topic3\", \"Topic3\", \"Topic3\", \"Topic3\", \"Topic3\", \"Topic3\", \"Topic3\", \"Topic3\", \"Topic3\", \"Topic3\", \"Topic3\", \"Topic3\", \"Topic3\", \"Topic3\", \"Topic3\", \"Topic3\", \"Topic3\", \"Topic3\", \"Topic3\", \"Topic3\", \"Topic3\", \"Topic3\", \"Topic3\", \"Topic3\", \"Topic3\", \"Topic3\", \"Topic3\", \"Topic3\", \"Topic3\", \"Topic3\", \"Topic3\", \"Topic3\", \"Topic3\", \"Topic3\", \"Topic3\", \"Topic3\", \"Topic3\", \"Topic3\", \"Topic3\", \"Topic4\", \"Topic4\", \"Topic4\", \"Topic4\", \"Topic4\", \"Topic4\", \"Topic4\", \"Topic4\", \"Topic4\", \"Topic4\", \"Topic4\", \"Topic4\", \"Topic4\", \"Topic4\", \"Topic4\", \"Topic4\", \"Topic4\", \"Topic4\", \"Topic4\", \"Topic4\", \"Topic4\", \"Topic4\", \"Topic4\", \"Topic4\", \"Topic4\", \"Topic4\", \"Topic4\", \"Topic4\", \"Topic4\", \"Topic4\", \"Topic4\", \"Topic4\", \"Topic4\", \"Topic4\", \"Topic4\", \"Topic4\", \"Topic4\", \"Topic4\", \"Topic4\", \"Topic4\", \"Topic4\", \"Topic4\", \"Topic4\", \"Topic4\", \"Topic4\", \"Topic4\", \"Topic4\", \"Topic4\", \"Topic4\", \"Topic4\", \"Topic4\", \"Topic4\", \"Topic4\", \"Topic4\", \"Topic4\", \"Topic4\", \"Topic4\", \"Topic4\", \"Topic4\", \"Topic4\", \"Topic4\", \"Topic4\", \"Topic4\"], \"logprob\": [30.0, 29.0, 28.0, 27.0, 26.0, 25.0, 24.0, 23.0, 22.0, 21.0, 20.0, 19.0, 18.0, 17.0, 16.0, 15.0, 14.0, 13.0, 12.0, 11.0, 10.0, 9.0, 8.0, 7.0, 6.0, 5.0, 4.0, 3.0, 2.0, 1.0, -5.5058, -6.3145, -5.5534, -6.6977, -7.126, -6.3168, -7.218, -7.2562, -7.2788, -7.0152, -6.6571, -5.3272, -7.1208, -7.2255, -6.3696, -6.7984, -6.8772, -7.375, -6.7617, -6.7665, -5.1384, -7.3735, -6.8712, -5.9444, -7.4151, -7.3552, -7.3365, -5.3595, -6.0831, -6.3094, -5.8784, -6.1834, -6.1092, -7.0058, -7.0303, -6.3736, -6.1929, -6.2173, -6.4048, -6.2797, -6.9553, -6.1637, -6.4608, -4.9247, -5.3654, -5.9337, -6.2666, -5.5479, -5.0829, -6.6302, -6.3302, -6.262, -6.4859, -5.3766, -6.107, -5.8442, -5.9517, -6.0885, -6.0126, -5.8519, -6.0303, -6.0137, -6.0251, -6.083, -6.0382, -6.1106, -6.1797, -6.5617, -6.9348, -5.9214, -7.5851, -7.413, -7.7974, -7.8239, -7.6675, -7.7965, -7.8665, -6.4472, -7.8132, -8.0196, -7.8151, -8.0842, -8.1078, -7.959, -6.479, -7.7844, -7.9448, -7.993, -8.1941, -7.4285, -8.2258, -8.2223, -7.4387, -8.2862, -8.3122, -8.3318, -6.7678, -7.0193, -8.1311, -6.3627, -6.3278, -7.2783, -6.9054, -7.3453, -6.3655, -4.6921, -7.287, -7.3384, -6.2368, -7.0884, -5.907, -6.3423, -7.2557, -7.3749, -7.3095, -7.1768, -5.7741, -7.0536, -6.937, -6.9472, -6.6721, -4.8149, -6.9329, -6.6376, -6.7498, -6.6939, -7.0187, -5.6277, -5.3412, -5.9212, -5.7675, -5.3042, -5.6957, -5.7397, -6.0943, -6.0154, -5.7272, -5.9007, -6.027, -5.9997, -6.0682, -6.2734, -6.2399, -6.1261, -6.22, -6.1483, -6.1494, -6.2289, -6.1854, -6.2338, -6.2202, -4.9063, -5.4048, -6.1922, -6.5451, -6.6927, -6.7988, -6.8397, -6.5892, -6.8406, -6.9805, -6.9964, -6.9968, -7.0966, -6.6706, -7.1389, -7.2298, -5.3748, -7.2304, -7.2895, -7.1327, -7.3677, -4.8792, -7.2937, -7.3529, -6.9843, -7.4894, -7.4489, -7.4967, -7.4549, -7.0728, -5.4911, -5.5578, -4.5383, -6.4086, -6.4265, -5.1499, -5.603, -6.558, -6.814, -5.2845, -5.4735, -6.4499, -6.0668, -5.9438, -5.7155, -6.6419, -5.3737, -6.0799, -4.8421, -6.2452, -6.3004, -5.3529, -5.5369, -5.338, -6.3382, -5.7539, -6.1959, -5.6918, -5.592, -5.4782, -5.9704, -6.1573, -6.0014, -5.9129, -6.0009, -6.1713, -5.7289, -5.8861, -5.9625, -5.9958, -6.1898, -6.2152, -6.2384, -6.2412, -6.2072, -6.3952, -6.3795, -6.5188, -6.5341, -6.3248, -6.4961, -6.1995, -6.7102, -6.7167, -6.8585, -6.8129, -6.913, -6.9462, -6.9716, -7.0375, -6.28, -7.1065, -7.1247, -7.0813, -6.826, -6.9326, -5.8112, -5.9725, -6.2316, -5.3706, -6.3635, -6.5715, -6.2657, -6.5322, -5.578, -4.7163, -5.3303, -5.8162, -5.4042, -4.9254, -5.8107, -5.6787, -5.744, -5.7463, -5.4642, -5.2869, -6.22, -5.7457, -6.0563, -5.9419, -6.0784, -5.609, -5.6863, -6.093, -5.9052, -5.8637, -5.9591, -6.1396, -6.093], \"loglift\": [30.0, 29.0, 28.0, 27.0, 26.0, 25.0, 24.0, 23.0, 22.0, 21.0, 20.0, 19.0, 18.0, 17.0, 16.0, 15.0, 14.0, 13.0, 12.0, 11.0, 10.0, 9.0, 8.0, 7.0, 6.0, 5.0, 4.0, 3.0, 2.0, 1.0, 1.08, 1.0785, 1.078, 1.0775, 1.0769, 1.0767, 1.0764, 1.0761, 1.076, 1.076, 1.0758, 1.0758, 1.0758, 1.0753, 1.0752, 1.0751, 1.0751, 1.0751, 1.0749, 1.0748, 1.0743, 1.0741, 1.0739, 1.0737, 1.0736, 1.0735, 1.0734, 1.0733, 1.0732, 1.0731, 1.0715, 1.0708, 1.0698, 1.0727, 1.0728, 1.0635, 1.0584, 1.0574, 1.0597, 1.0528, 1.0708, 1.01, 1.0275, 0.7918, 0.8337, 0.9177, 0.939, 0.6472, 0.3286, 1.016, 0.8743, 0.824, 0.9459, 0.0302, 0.6002, 0.2215, 0.3596, 0.5085, 0.348, -0.0354, 0.1565, 0.0479, 0.0732, 0.159, -0.1812, 0.1236, 1.2532, 1.2519, 1.2508, 1.2499, 1.2477, 1.2454, 1.2453, 1.245, 1.2448, 1.2448, 1.2442, 1.2439, 1.2434, 1.2422, 1.2414, 1.2411, 1.2411, 1.241, 1.2409, 1.2404, 1.2398, 1.2393, 1.2393, 1.239, 1.2389, 1.2388, 1.2381, 1.2379, 1.2372, 1.2369, 1.2285, 1.2279, 1.2368, 1.2172, 1.2156, 1.227, 1.2185, 1.2275, 1.2075, 1.1665, 1.2246, 1.2234, 1.1872, 1.2121, 1.161, 1.1695, 1.2118, 1.217, 1.2093, 1.1935, 1.0669, 1.1688, 1.1482, 1.1416, 1.0603, 0.5919, 1.1211, 1.0289, 1.0578, 1.0172, 1.1256, 0.6102, 0.4753, 0.5679, 0.4194, 0.1073, 0.3334, 0.3219, 0.5675, 0.5023, 0.1297, 0.1651, 0.2943, 0.0985, 0.18, 0.453, 0.3755, 0.1467, 0.3028, 0.0937, 0.0848, 0.3275, 0.0098, 0.0776, -0.5038, 1.5198, 1.5191, 1.5174, 1.5161, 1.5154, 1.5148, 1.5146, 1.5144, 1.5143, 1.5137, 1.5136, 1.513, 1.5128, 1.5122, 1.5122, 1.5117, 1.5114, 1.5113, 1.511, 1.5106, 1.5103, 1.5103, 1.5103, 1.5102, 1.5096, 1.5091, 1.509, 1.5089, 1.5086, 1.5082, 1.508, 1.507, 1.4925, 1.5075, 1.5071, 1.4866, 1.4816, 1.4939, 1.5001, 1.444, 1.4506, 1.4869, 1.463, 1.4563, 1.4397, 1.4898, 1.407, 1.4411, 1.276, 1.4243, 1.4318, 1.2705, 1.281, 1.1657, 1.4178, 1.2145, 1.3153, 0.9972, 0.893, 0.3788, 0.7325, 1.0322, 0.6603, 0.1163, -0.5894, 0.7872, 1.8406, 1.8402, 1.8399, 1.8396, 1.839, 1.8388, 1.8388, 1.8387, 1.8385, 1.838, 1.8377, 1.8372, 1.8369, 1.8368, 1.8366, 1.8362, 1.836, 1.8356, 1.8347, 1.8347, 1.8342, 1.834, 1.8336, 1.8331, 1.8329, 1.8322, 1.8322, 1.832, 1.832, 1.8317, 1.828, 1.8247, 1.8269, 1.8046, 1.8239, 1.8258, 1.8187, 1.8228, 1.7871, 1.7424, 1.7589, 1.774, 1.7211, 1.6519, 1.7434, 1.7163, 1.7184, 1.6984, 1.6332, 1.5835, 1.771, 1.5458, 1.6928, 1.6205, 1.6648, 0.9474, 0.412, 1.378, 0.7075, 0.4091, -0.5475, 1.1105, 0.149]}, \"token.table\": {\"Topic\": [4, 2, 1, 2, 3, 4, 2, 3, 1, 4, 1, 2, 3, 4, 1, 4, 1, 4, 3, 1, 4, 1, 3, 4, 1, 4, 2, 1, 2, 4, 1, 2, 3, 4, 1, 4, 1, 4, 1, 1, 4, 2, 4, 1, 2, 3, 4, 4, 4, 3, 4, 4, 4, 4, 2, 4, 2, 4, 1, 2, 4, 2, 3, 4, 1, 2, 3, 2, 3, 4, 1, 2, 3, 4, 1, 2, 3, 4, 1, 2, 3, 4, 1, 2, 4, 1, 2, 2, 4, 2, 4, 2, 3, 4, 1, 2, 3, 2, 3, 1, 2, 3, 4, 1, 2, 3, 4, 1, 2, 3, 2, 1, 2, 3, 4, 1, 1, 2, 3, 4, 1, 1, 2, 3, 4, 2, 3, 4, 1, 2, 3, 4, 1, 2, 3, 4, 4, 2, 3, 4, 3, 1, 2, 3, 4, 2, 3, 2, 1, 2, 3, 4, 2, 4, 1, 4, 1, 2, 3, 4, 3, 2, 4, 1, 2, 4, 1, 2, 3, 4, 3, 1, 2, 3, 4, 2, 3, 1, 3, 1, 3, 1, 2, 4, 1, 2, 3, 4, 2, 4, 2, 3, 1, 2, 3, 1, 2, 3, 1, 2, 3, 4, 1, 2, 4, 1, 3, 4, 1, 4, 1, 1, 4, 1, 4, 3, 3, 1, 2, 1, 4, 1, 2, 3, 4, 1, 1, 2, 3, 4, 2, 1, 2, 3, 4, 1, 2, 2, 1, 2, 4, 4, 2, 1, 2, 3, 4, 4, 1, 2, 3, 1, 2, 3, 4, 1, 2, 3, 4, 1, 1, 2, 3, 4, 1, 2, 3, 1, 2, 3, 4, 1, 2, 1, 2, 3, 1, 2, 3, 3, 4, 1, 2, 3, 4, 1, 4, 1, 4, 2, 3, 1, 1, 1, 2, 3, 4, 2, 4, 2, 3, 4, 4, 4, 1, 2, 3, 4, 2, 1, 2, 2, 3, 1, 2, 2, 2, 3, 4, 1, 1, 2, 3, 3, 1, 4, 2, 3, 1, 4, 1, 2, 3, 4, 1, 2, 3, 4, 3, 3, 4, 2, 3, 4, 2, 3, 3, 1, 2, 1, 2, 3, 4, 2, 1, 2, 3, 4, 2, 4, 1, 2, 1, 2, 4, 2, 3, 1, 2, 3, 1, 2, 3, 1, 2, 3, 2, 3, 2, 3, 1, 4, 1, 2, 3, 2, 4, 3, 4, 3, 2, 4, 3, 3, 2, 1, 1, 2, 3, 4, 1, 2, 4, 1, 2, 4, 1, 2, 4, 4, 1, 2, 3, 4, 1, 2, 3, 2, 1, 2, 1, 2, 3, 4, 4, 4, 4, 2, 4, 1, 2, 3, 4, 2, 3, 3, 2, 3, 3, 4, 1, 2, 4, 2, 3, 1, 2, 1, 4, 1, 2, 3, 1, 2, 2, 2, 1, 2, 3, 4, 1, 2, 3, 4, 1, 2, 3, 4, 4, 1, 1, 2, 3, 1, 2, 3, 4, 3, 4, 1, 2, 4, 2, 3, 2, 2, 1, 2, 3, 4, 3, 1, 2, 3, 4, 2, 1, 2, 3, 4, 1, 4, 1, 3, 4, 1, 4, 1, 4, 1, 2, 3, 4, 1, 2, 2, 3, 1, 2, 3, 4, 1, 2, 3, 4, 2, 3, 1, 2, 3, 4, 1, 2, 3, 1, 2, 3, 4, 3, 3, 1, 4, 3, 1, 2, 3, 4, 1, 2, 3, 4, 1, 2, 3, 4, 1, 2, 3, 4, 1, 2, 3, 4, 1, 2, 3, 4, 1, 2, 4, 1, 2, 3, 4, 4, 2, 3, 1, 2, 3, 4, 1, 2, 3, 4, 3], \"Freq\": [0.9980860634787414, 0.9876565011868013, 0.2826255011858273, 0.3235222145357145, 0.31914042381965513, 0.07449044217300875, 0.9820944100638191, 0.9943567198275536, 0.9905794084574338, 0.006390834893273766, 0.21175698171686771, 0.25293195038403643, 0.05293924542921693, 0.4793942780534644, 0.9889129201561548, 0.010957483879846592, 0.9914874337966563, 0.00476676650863777, 0.9843410059755907, 0.9893925302442169, 0.008860231614127316, 0.9922434498556568, 0.001042272531360984, 0.0072959077195268885, 0.9934916700358373, 0.005043104924039783, 0.9840771678884503, 0.03363524352161428, 0.9586044403660071, 0.00840881088040357, 0.01414480748921981, 0.1791675615301176, 0.7779644119070895, 0.02828961497843962, 0.9709735755262489, 0.028745928222816578, 0.9900783939559178, 0.00589332377354713, 0.9943309166358455, 0.9938489949977122, 0.006901729131928557, 0.9800656897219197, 0.012250821121523996, 0.045819258275159286, 0.13936691058694284, 0.7865639337235677, 0.028637036421974554, 0.9979707068781588, 0.9943886086229001, 0.013202314234975168, 0.98357241050565, 0.9951486897631686, 0.9954534445504863, 0.9980799814827588, 0.009263189330260472, 0.98189806900761, 0.9718429855874512, 0.9963550110240607, 0.9776201480630112, 0.017667834001138756, 0.002944639000189793, 0.06941015095163723, 0.92161255985785, 0.007712238994626359, 0.007477866813243212, 0.029911467252972848, 0.9621521966372932, 0.014205116911556591, 0.9659479499858482, 0.014205116911556591, 0.044601437518453656, 0.7939055878284751, 0.14718474381089708, 0.013380431255536097, 0.3961209926801904, 0.43268600738913104, 0.10258518015563906, 0.06906725000577679, 0.0013943770609423244, 0.2928191827978881, 0.7013716616539891, 0.004183131182826973, 0.028190005284740142, 0.9584601796811648, 0.0070475013211850355, 0.041839332904369586, 0.9518448235744081, 0.9890104607609513, 0.995822645171639, 0.006451701454611981, 0.9935620240102451, 0.0057248213768573385, 0.9846692768194623, 0.0057248213768573385, 0.027336459571867172, 0.034170574464833965, 0.9362737403364506, 0.01704708287055241, 0.9802072650567635, 0.06619186783104859, 0.9070737443514066, 0.026967057264501278, 0.9890446602746169, 0.048356977423061456, 0.06732049798112477, 0.783193399048015, 0.10145483498563874, 0.019873258319005282, 0.9539163993122536, 0.019873258319005282, 0.9830710326317668, 0.14063661686609769, 0.35598643644230976, 0.481240923338678, 0.02417191852386054, 0.9946704139092749, 0.48545975411800274, 0.3071510766575989, 0.10813558504050298, 0.09893255652641762, 0.9927673920238286, 0.028664111449111004, 0.0015924506360617226, 0.9666175360894655, 0.0031849012721234453, 0.004245746752988257, 0.9319414122809224, 0.06368620129482386, 0.36439391706479113, 0.3141967958364781, 0.08273229239481228, 0.23890111399400848, 0.09857232089878533, 0.8740079119692299, 0.019714464179757064, 0.013142976119838043, 0.9971299768195337, 0.002288295542816734, 0.9862553789540124, 0.009153182171266936, 0.9965881855846616, 0.18824343682185293, 0.14948743512323617, 0.6145594555066376, 0.04982914504107872, 0.008176301367047317, 0.9913765407544871, 0.9849938722890862, 0.005331914249339405, 0.08531062798943048, 0.005331914249339405, 0.9037594652630292, 0.11423362315316075, 0.8853105794369959, 0.9904090043272217, 0.0067146373174726895, 0.23249317228976404, 0.39645290946426187, 0.24550584984329563, 0.12492170451390308, 0.9975925158522445, 0.9611735125393839, 0.03681090048023172, 0.03215790303320658, 0.10361990977366564, 0.8646902815595546, 0.16685215906071904, 0.46944844752676884, 0.19089018197624635, 0.17250816445260783, 0.9933832269785698, 0.8488691532153337, 0.14016211599602021, 0.003948228619606203, 0.005922342929409305, 0.009950681724044029, 0.9900928315423808, 0.9912717636500372, 0.005935759063772678, 0.9821751531807423, 0.01772879337871376, 0.994272451690977, 0.9674194425191155, 0.9932295020712335, 0.866521595800749, 0.07314792691824504, 0.016880290827287318, 0.045014108872766176, 0.2273558137769913, 0.7705953688193599, 0.9609151581501345, 0.032758471300572765, 0.008688822213068634, 0.019115408868750995, 0.9722792056423801, 0.0017457806318251022, 0.07332278653665429, 0.9252637348673041, 0.15145862812164942, 0.30121547390485337, 0.4543758843649483, 0.09359802861450246, 0.9959864126176374, 0.01775720857434752, 0.9766464715891137, 0.9910488626647753, 0.003896653457397544, 0.003896653457397544, 0.9890715730751015, 0.008714286987445828, 0.9940716925533206, 0.9911914580605146, 0.006996645586309515, 0.9974441637458296, 0.0015135723273836563, 0.9952914615363552, 0.9987293444631132, 0.022079048643765437, 0.9714781403256793, 0.9767407746113295, 0.024117056163242705, 0.422926461387867, 0.3356416385056902, 0.18446792464789943, 0.05758998623153933, 0.9944277119135424, 0.061196614052716446, 0.02379868324272306, 0.03399811891817581, 0.8805512799807533, 0.9879611012788401, 0.31720010548188765, 0.3000961782255114, 0.06064119663624323, 0.32186481291544483, 0.005436621152304396, 0.9921833602955522, 0.9790880995346599, 0.004132387647279655, 0.06198581470919483, 0.933919608285202, 0.985800833627, 0.9862455850647829, 0.32681067430759886, 0.4572544198466834, 0.14587257565661066, 0.06942973552886757, 0.9874925519649254, 0.0051675010012936975, 0.99216019224839, 0.9953993162323495, 0.0022189818348880446, 0.1642046557817153, 0.7367019691828308, 0.09763520073507397, 0.3066094706197931, 0.44771951107549335, 0.12368904780684836, 0.12368904780684836, 0.9982805234203379, 0.4797225684216431, 0.23079851528597942, 0.24529894556572682, 0.043501290839242195, 0.012405820581137003, 0.9738569156192547, 0.012405820581137003, 0.30092241063207364, 0.3810909292946724, 0.22656320491603998, 0.09062528196641599, 0.0446841322896561, 0.9505533596163206, 0.023329385458808256, 0.9176224947131247, 0.06221169455682202, 0.02366271162405661, 0.9583398207742928, 0.01577514108270441, 0.9962721785055352, 0.991650064582946, 0.2212315714633274, 0.5015498359261771, 0.19374938867285196, 0.08382065751095014, 0.9946569856555211, 0.0033947337394386384, 0.9933649054641749, 0.0035732550556265286, 0.826399143516757, 0.17192228044793054, 0.9957170074115828, 0.9935896704732662, 0.25014587583374437, 0.3287315270912481, 0.18152178600324811, 0.23797063408962404, 0.11638138815386574, 0.8837711662934179, 0.02468008067227106, 0.04319014117647435, 0.9316730453782325, 0.9932099265562616, 0.9983361265964972, 0.47058566539809066, 0.31668637721123993, 0.12115475878539311, 0.09168468232408128, 0.9835768158818596, 0.0035314463658187955, 0.9958678751609003, 0.9699982183522753, 0.020638259964942028, 0.012027030184797682, 0.9862164751534099, 0.9770908458142757, 0.977951051648812, 0.9886297133307097, 0.996295154295747, 0.9944822946035862, 0.015561567012908674, 0.03890391753227168, 0.9453651960342019, 0.9909236702571175, 0.9939878846411994, 0.005287169599155315, 0.08947941732415232, 0.908216085840146, 0.9933472649091972, 0.005312017459407472, 0.7481230142940516, 0.1719604214365462, 0.052032304641316564, 0.027919773222169864, 0.08331087043285851, 0.09340915775805347, 0.012622859156493714, 0.8103875578468964, 0.989985924289705, 0.05279200121248394, 0.9436570216731504, 0.006774089570504511, 0.013548179141009023, 0.9754688981526497, 0.007474995685859352, 0.9941744262192937, 0.9877222390315197, 0.10887037710612968, 0.8913762125564368, 0.007512054024759979, 0.06510446821458649, 0.007512054024759979, 0.9189746090289707, 0.9929918116408173, 0.009631275468141567, 0.13002221881991116, 0.02407818867035392, 0.8379209657283164, 0.19693631226466218, 0.7998025742993423, 0.01734912233860528, 0.988899973300501, 0.9480328907274584, 0.048521368423058896, 0.0037324129556199153, 0.011130980833381222, 0.9906572941709287, 0.03606514709809703, 0.9376938245505227, 0.018032573549048515, 0.009526655310526088, 0.0762132424842087, 0.9145589098105044, 0.02013950419665008, 0.38768545578551405, 0.5924370817847898, 0.18330359209614347, 0.8134096899266366, 0.9657543130015478, 0.0311533649355338, 0.0130205420623383, 0.9852210160502647, 0.002443594596641919, 0.009774378386567676, 0.9872122170433353, 0.006969904003918267, 0.9897263685563938, 0.9800749346397496, 0.9922503633597662, 0.9951599240290003, 0.015018842844075241, 0.9837342062869282, 0.9871074775459986, 0.9887960612102745, 0.9922178402023101, 0.9924550163266864, 0.5632818452050086, 0.17755623381462227, 0.07194088783868316, 0.1867401769429648, 0.8712476523942931, 0.04938245803044576, 0.07760100547641477, 0.10788971464862677, 0.8775030124754978, 0.01438529528648357, 0.8120927829836618, 0.1629805585226726, 0.025290086667311265, 0.9899137297759212, 0.7804527813118652, 0.09460033712871094, 0.011310909874085003, 0.11413736327485775, 0.0038210294062622527, 0.9170470575029407, 0.08024161753150731, 0.9969155069409824, 0.012135727664727867, 0.9829939408429572, 0.6169975365558186, 0.2785889153977796, 0.04272836125732816, 0.06152884021055254, 0.989430746668549, 0.9889353722193116, 0.9924832549558827, 0.035478136937826324, 0.9606387847780665, 0.34882803153828523, 0.34018832797077353, 0.2192324780256096, 0.0917968504048119, 0.026231916976561548, 0.9705809281327772, 0.9937618879482897, 0.9309161853834798, 0.06649401324167713, 0.9932330369784818, 0.9962059359126613, 0.02391565731916388, 0.9725700643126644, 0.9868427385283706, 0.10667700077356589, 0.892040437503094, 0.014113863494385261, 0.9832658234421732, 0.9766842405370456, 0.021866065086650274, 0.008778299295352529, 0.9129431267166629, 0.07827316871689337, 0.009142812353256913, 0.9874237341517466, 0.989479977815843, 0.9696407420276085, 0.042916580705953125, 0.13794615226913506, 0.07663675126063059, 0.7418437522029041, 0.7713111446317453, 0.1472730017258025, 0.03993844114598034, 0.03993844114598034, 0.16788350570323082, 0.7881197906623891, 0.03730744571182907, 0.009326861427957267, 0.9954029793339101, 0.9914248962236673, 0.023820629789722242, 0.8194296647664452, 0.15245203065422236, 0.07512400045269158, 0.501371046499485, 0.422980785157546, 0.0016331304446237298, 0.996579503607466, 0.9857531668597002, 0.0015008079224382049, 0.17259291108039354, 0.8254443573410126, 0.816656415883616, 0.17976713557186516, 0.9849053084078169, 0.9919960802624411, 0.32493912397303687, 0.523750561667066, 0.02458421003743371, 0.12719656497628748, 0.9928442090377878, 0.3557562765454678, 0.39249684918618366, 0.12276727931166019, 0.1299361715342389, 0.992201724272984, 0.005082899748742442, 0.005082899748742442, 0.005082899748742442, 0.9809996515072914, 0.9898797658692191, 0.006733875958294008, 0.9291359200453209, 0.06539373044307244, 0.0027247387684613514, 0.996488317304432, 0.003168484315753361, 0.9974548837851702, 0.003392703686344116, 0.39711386203530696, 0.3123246860872279, 0.10625479011214971, 0.18353100110280404, 0.033759959632414585, 0.95653218958508, 0.01165218989926719, 0.9846100464880776, 0.647283965018842, 0.2867713769070819, 0.05120917444769319, 0.014338568845354093, 0.14369575815139082, 0.31476213690304655, 0.5337271017051659, 0.008211186180079476, 0.02922278314170309, 0.964351843676202, 0.16506534926124947, 0.029344950979777684, 0.1760697058786661, 0.627248327192748, 0.0745788146434453, 0.8949457757213437, 0.027119568961252838, 0.018725968734510285, 0.05617790620353086, 0.9229227447722926, 0.0026751383906443264, 0.9897265626897144, 0.9943317025250613, 0.9929580239334411, 0.005485955933333929, 0.9950873591398239, 0.004844091101206795, 0.07266136651810191, 0.06297318431568832, 0.8622482160148094, 0.9907688139388076, 0.0026777535511859664, 0.0026777535511859664, 0.005355507102371933, 0.4249391088650503, 0.38514547994123294, 0.07958725784763485, 0.10943247954049791, 0.38338058178833995, 0.30989930361224144, 0.15654707089690548, 0.15015739453376648, 0.01594355108391595, 0.027901214396852912, 0.051816541022726835, 0.9047965240122302, 0.0878071818066022, 0.009756353534066911, 0.9024627019011893, 0.9950551431422812, 0.9353355543439192, 0.004370726889457567, 0.06119017645240593, 0.34917035009275194, 0.5139787553365308, 0.08845648869016383, 0.0479527280794046, 0.9887704855057894, 0.010202375869522535, 0.9896304593436859, 0.18960305875291136, 0.3939040290370562, 0.007348955765616719, 0.4086019405682896, 0.45836128500018647, 0.41314877729608646, 0.020267675867355183, 0.10757458729596213, 0.9967306523598283], \"Term\": [\"adl\", \"advertising\", \"also\", \"also\", \"also\", \"also\", \"altitude\", \"amiga\", \"apartment\", \"apartment\", \"april\", \"april\", \"april\", \"april\", \"arab\", \"arab\", \"arabs\", \"arabs\", \"archie\", \"armenia\", \"armenia\", \"armenian\", \"armenian\", \"armenian\", \"armenians\", \"armenians\", \"astronaut\", \"atmosphere\", \"atmosphere\", \"atmosphere\", \"available\", \"available\", \"available\", \"available\", \"azerbaijan\", \"azerbaijan\", \"azerbaijani\", \"azerbaijani\", \"azerbaijanis\", \"baku\", \"baku\", \"baseball\", \"baseball\", \"bit\", \"bit\", \"bit\", \"bit\", \"blues\", \"bos\", \"buf\", \"buf\", \"buffalo\", \"bullock\", \"cal\", \"calgary\", \"calgary\", \"centaur\", \"chi\", \"children\", \"children\", \"children\", \"code\", \"code\", \"code\", \"color\", \"color\", \"color\", \"comp\", \"comp\", \"comp\", \"cost\", \"cost\", \"cost\", \"cost\", \"could\", \"could\", \"could\", \"could\", \"data\", \"data\", \"data\", \"data\", \"dc\", \"dc\", \"dc\", \"degrees\", \"degrees\", \"delta\", \"det\", \"detroit\", \"detroit\", \"directory\", \"directory\", \"directory\", \"display\", \"display\", \"display\", \"dos\", \"dos\", \"earth\", \"earth\", \"earth\", \"edm\", \"edu\", \"edu\", \"edu\", \"edu\", \"energy\", \"energy\", \"energy\", \"engines\", \"etc\", \"etc\", \"etc\", \"etc\", \"ethnic\", \"even\", \"even\", \"even\", \"even\", \"father\", \"file\", \"file\", \"file\", \"file\", \"files\", \"files\", \"files\", \"first\", \"first\", \"first\", \"first\", \"flight\", \"flight\", \"flight\", \"flight\", \"flyers\", \"format\", \"format\", \"format\", \"formats\", \"free\", \"free\", \"free\", \"free\", \"ftp\", \"ftp\", \"funding\", \"game\", \"game\", \"game\", \"game\", \"games\", \"games\", \"genocide\", \"genocide\", \"get\", \"get\", \"get\", \"get\", \"gif\", \"gm\", \"gm\", \"goal\", \"goal\", \"goal\", \"good\", \"good\", \"good\", \"good\", \"gopher\", \"government\", \"government\", \"government\", \"government\", \"graphics\", \"graphics\", \"greece\", \"greece\", \"greek\", \"greek\", \"greeks\", \"hacker\", \"hartford\", \"history\", \"history\", \"history\", \"history\", \"hockey\", \"hockey\", \"hst\", \"hst\", \"image\", \"image\", \"image\", \"images\", \"images\", \"images\", \"information\", \"information\", \"information\", \"information\", \"iran\", \"islanders\", \"islanders\", \"israel\", \"israel\", \"israel\", \"israeli\", \"israeli\", \"israelis\", \"jewish\", \"jewish\", \"jews\", \"jews\", \"jfif\", \"jpeg\", \"jupiter\", \"jupiter\", \"killed\", \"killed\", \"know\", \"know\", \"know\", \"know\", \"kuwait\", \"la\", \"la\", \"la\", \"la\", \"larson\", \"last\", \"last\", \"last\", \"last\", \"launch\", \"launch\", \"launches\", \"league\", \"league\", \"league\", \"lemieux\", \"leo\", \"like\", \"like\", \"like\", \"like\", \"lindros\", \"lunar\", \"lunar\", \"macintosh\", \"mail\", \"mail\", \"mail\", \"mail\", \"make\", \"make\", \"make\", \"make\", \"mamma\", \"many\", \"many\", \"many\", \"many\", \"mars\", \"mars\", \"mars\", \"may\", \"may\", \"may\", \"may\", \"mission\", \"mission\", \"missions\", \"missions\", \"missions\", \"moon\", \"moon\", \"moon\", \"msdos\", \"mtl\", \"much\", \"much\", \"much\", \"much\", \"muslim\", \"muslim\", \"muslims\", \"muslims\", \"nasa\", \"nasa\", \"nazi\", \"nazis\", \"new\", \"new\", \"new\", \"new\", \"nhl\", \"nhl\", \"nj\", \"nj\", \"nj\", \"nyi\", \"nyr\", \"one\", \"one\", \"one\", \"one\", \"oort\", \"orbit\", \"orbit\", \"orbital\", \"orbital\", \"orbiter\", \"orbiter\", \"orbiting\", \"orbits\", \"os\", \"ott\", \"ottoman\", \"package\", \"package\", \"package\", \"packages\", \"palestinian\", \"palestinian\", \"pc\", \"pc\", \"peace\", \"peace\", \"people\", \"people\", \"people\", \"people\", \"period\", \"period\", \"period\", \"period\", \"phigs\", \"pit\", \"pit\", \"pittsburgh\", \"pittsburgh\", \"pittsburgh\", \"pixel\", \"pixel\", \"pixels\", \"planet\", \"planet\", \"play\", \"play\", \"play\", \"play\", \"playback\", \"player\", \"player\", \"player\", \"player\", \"players\", \"players\", \"pluto\", \"pluto\", \"population\", \"population\", \"population\", \"postscript\", \"postscript\", \"probe\", \"probe\", \"probe\", \"processing\", \"processing\", \"processing\", \"program\", \"program\", \"program\", \"programs\", \"programs\", \"propulsion\", \"propulsion\", \"pts\", \"pts\", \"pub\", \"pub\", \"pub\", \"puck\", \"puck\", \"quantization\", \"que\", \"quicktime\", \"rangers\", \"rangers\", \"raster\", \"rayshade\", \"redesign\", \"religious\", \"right\", \"right\", \"right\", \"right\", \"rights\", \"rights\", \"rights\", \"rocket\", \"rocket\", \"rocket\", \"russian\", \"russian\", \"russian\", \"sabres\", \"said\", \"said\", \"said\", \"said\", \"satellite\", \"satellite\", \"satellite\", \"satellites\", \"saturn\", \"saturn\", \"say\", \"say\", \"say\", \"say\", \"scored\", \"scorer\", \"scoring\", \"season\", \"season\", \"see\", \"see\", \"see\", \"see\", \"server\", \"server\", \"shareware\", \"shuttle\", \"shuttle\", \"simtel\", \"sj\", \"sky\", \"sky\", \"soderstrom\", \"software\", \"software\", \"solar\", \"solar\", \"soldiers\", \"soldiers\", \"space\", \"space\", \"space\", \"spacecraft\", \"spacecraft\", \"ssf\", \"ssto\", \"st\", \"st\", \"st\", \"st\", \"state\", \"state\", \"state\", \"state\", \"station\", \"station\", \"station\", \"station\", \"stl\", \"sumgait\", \"surface\", \"surface\", \"surface\", \"system\", \"system\", \"system\", \"system\", \"tar\", \"tb\", \"team\", \"team\", \"team\", \"technology\", \"technology\", \"temperature\", \"thermal\", \"think\", \"think\", \"think\", \"think\", \"tiff\", \"time\", \"time\", \"time\", \"time\", \"titan\", \"tor\", \"tor\", \"tor\", \"tor\", \"troops\", \"troops\", \"turkey\", \"turkey\", \"turkey\", \"turkish\", \"turkish\", \"turks\", \"turks\", \"two\", \"two\", \"two\", \"two\", \"universe\", \"universe\", \"unix\", \"unix\", \"us\", \"us\", \"us\", \"us\", \"use\", \"use\", \"use\", \"use\", \"user\", \"user\", \"van\", \"van\", \"van\", \"van\", \"venus\", \"venus\", \"venus\", \"version\", \"version\", \"version\", \"version\", \"vga\", \"viewer\", \"villages\", \"villages\", \"visualization\", \"vs\", \"vs\", \"vs\", \"vs\", \"war\", \"war\", \"war\", \"war\", \"way\", \"way\", \"way\", \"way\", \"well\", \"well\", \"well\", \"well\", \"win\", \"win\", \"win\", \"win\", \"windows\", \"windows\", \"windows\", \"winnipeg\", \"women\", \"women\", \"women\", \"would\", \"would\", \"would\", \"would\", \"wsh\", \"xv\", \"xv\", \"year\", \"year\", \"year\", \"year\", \"years\", \"years\", \"years\", \"years\", \"zip\"]}, \"R\": 30, \"lambda.step\": 0.01, \"plot.opts\": {\"xlab\": \"PC1\", \"ylab\": \"PC2\"}, \"topic.order\": [1, 2, 3, 4]};\n",
              "\n",
              "function LDAvis_load_lib(url, callback){\n",
              "  var s = document.createElement('script');\n",
              "  s.src = url;\n",
              "  s.async = true;\n",
              "  s.onreadystatechange = s.onload = callback;\n",
              "  s.onerror = function(){console.warn(\"failed to load library \" + url);};\n",
              "  document.getElementsByTagName(\"head\")[0].appendChild(s);\n",
              "}\n",
              "\n",
              "if(typeof(LDAvis) !== \"undefined\"){\n",
              "   // already loaded: just create the visualization\n",
              "   !function(LDAvis){\n",
              "       new LDAvis(\"#\" + \"ldavis_el2201340572734475202104436049\", ldavis_el2201340572734475202104436049_data);\n",
              "   }(LDAvis);\n",
              "}else if(typeof define === \"function\" && define.amd){\n",
              "   // require.js is available: use it to load d3/LDAvis\n",
              "   require.config({paths: {d3: \"https://d3js.org/d3.v5\"}});\n",
              "   require([\"d3\"], function(d3){\n",
              "      window.d3 = d3;\n",
              "      LDAvis_load_lib(\"https://cdn.jsdelivr.net/gh/bmabey/pyLDAvis@3.4.0/pyLDAvis/js/ldavis.v3.0.0.js\", function(){\n",
              "        new LDAvis(\"#\" + \"ldavis_el2201340572734475202104436049\", ldavis_el2201340572734475202104436049_data);\n",
              "      });\n",
              "    });\n",
              "}else{\n",
              "    // require.js not available: dynamically load d3 & LDAvis\n",
              "    LDAvis_load_lib(\"https://d3js.org/d3.v5.js\", function(){\n",
              "         LDAvis_load_lib(\"https://cdn.jsdelivr.net/gh/bmabey/pyLDAvis@3.4.0/pyLDAvis/js/ldavis.v3.0.0.js\", function(){\n",
              "                 new LDAvis(\"#\" + \"ldavis_el2201340572734475202104436049\", ldavis_el2201340572734475202104436049_data);\n",
              "            })\n",
              "         });\n",
              "}\n",
              "</script>"
            ]
          },
          "metadata": {},
          "execution_count": 51
        }
      ]
    },
    {
      "cell_type": "markdown",
      "source": [
        "**Let's improve our model using TF-IDF before LDA:**"
      ],
      "metadata": {
        "id": "RcEO1b6_BJgO"
      }
    },
    {
      "cell_type": "code",
      "source": [
        "from sklearn.feature_extraction.text import TfidfVectorizer\n",
        "\n",
        "# Convert processed documents back to text\n",
        "text_documents = [\" \".join(doc) for doc in processed_docs]\n",
        "\n",
        "# Apply TF-IDF\n",
        "vectorizer = TfidfVectorizer(max_df=0.95, min_df=2, stop_words='english')\n",
        "tfidf_matrix = vectorizer.fit_transform(text_documents)\n",
        "\n",
        "# Get feature names (words)\n",
        "feature_names = vectorizer.get_feature_names_out()"
      ],
      "metadata": {
        "id": "5s_2kORf-KhZ",
        "outputId": "d65341ba-b655-4448-cc7f-cbcdfc0a36a0",
        "colab": {
          "base_uri": "https://localhost:8080/"
        }
      },
      "execution_count": 52,
      "outputs": [
        {
          "output_type": "stream",
          "name": "stderr",
          "text": [
            "/usr/local/lib/python3.11/dist-packages/ipykernel/ipkernel.py:283: DeprecationWarning: `should_run_async` will not call `transform_cell` automatically in the future. Please pass the result to `transformed_cell` argument and any exception that happen during thetransform in `preprocessing_exc_tuple` in IPython 7.17 and above.\n",
            "  and should_run_async(code)\n"
          ]
        }
      ]
    },
    {
      "cell_type": "code",
      "source": [
        "feature_names[:10]"
      ],
      "metadata": {
        "id": "CK4CfVp3BeLt",
        "outputId": "235208e9-7ec5-4af1-9c43-aaa411674b49",
        "colab": {
          "base_uri": "https://localhost:8080/"
        }
      },
      "execution_count": 54,
      "outputs": [
        {
          "output_type": "stream",
          "name": "stderr",
          "text": [
            "/usr/local/lib/python3.11/dist-packages/ipykernel/ipkernel.py:283: DeprecationWarning: `should_run_async` will not call `transform_cell` automatically in the future. Please pass the result to `transformed_cell` argument and any exception that happen during thetransform in `preprocessing_exc_tuple` in IPython 7.17 and above.\n",
            "  and should_run_async(code)\n"
          ]
        },
        {
          "output_type": "execute_result",
          "data": {
            "text/plain": [
              "array(['aa', 'aao', 'aaoepp', 'aaplay', 'aarnet', 'aas', 'aawin', 'ab',\n",
              "       'ababa', 'abandon'], dtype=object)"
            ]
          },
          "metadata": {},
          "execution_count": 54
        }
      ]
    },
    {
      "cell_type": "code",
      "source": [
        "#Keeping the high Tf_IDF words, applying the word filtering based on featere names extracted above:\n",
        "\n",
        "important_words = set(feature_names)\n",
        "\n",
        "# Filter processed docs to keep only important words\n",
        "filtered_docs = [[word for word in doc if word in important_words] for doc in processed_docs]"
      ],
      "metadata": {
        "id": "YcCoN-7LBvcf",
        "outputId": "0d47ebf9-39ea-4331-8464-94f5e48bc070",
        "colab": {
          "base_uri": "https://localhost:8080/"
        }
      },
      "execution_count": 55,
      "outputs": [
        {
          "output_type": "stream",
          "name": "stderr",
          "text": [
            "/usr/local/lib/python3.11/dist-packages/ipykernel/ipkernel.py:283: DeprecationWarning: `should_run_async` will not call `transform_cell` automatically in the future. Please pass the result to `transformed_cell` argument and any exception that happen during thetransform in `preprocessing_exc_tuple` in IPython 7.17 and above.\n",
            "  and should_run_async(code)\n"
          ]
        }
      ]
    },
    {
      "cell_type": "code",
      "source": [
        "\n",
        "#Now using the same steps in LDA, this time using the filtered_docs dictionary with filtered words\n",
        "dictionary_TDIDF = Dictionary(filtered_docs)\n",
        "\n",
        "# Convert documents into bag-of-words format\n",
        "corpus_TDIDF = [dictionary.doc2bow(doc) for doc in filtered_docs]"
      ],
      "metadata": {
        "id": "tzjI3a2tCta2",
        "outputId": "435c4e34-a666-4ddc-d10a-c37f28353be9",
        "colab": {
          "base_uri": "https://localhost:8080/"
        }
      },
      "execution_count": 58,
      "outputs": [
        {
          "output_type": "stream",
          "name": "stderr",
          "text": [
            "/usr/local/lib/python3.11/dist-packages/ipykernel/ipkernel.py:283: DeprecationWarning: `should_run_async` will not call `transform_cell` automatically in the future. Please pass the result to `transformed_cell` argument and any exception that happen during thetransform in `preprocessing_exc_tuple` in IPython 7.17 and above.\n",
            "  and should_run_async(code)\n"
          ]
        }
      ]
    },
    {
      "cell_type": "code",
      "source": [
        "# Train LDA model\n",
        "lda_model_with_TDIDF = LdaModel(corpus=corpus_TDIDF, num_topics=4, id2word=dictionary_TDIDF, passes=10)\n",
        "\n",
        "# Print topics\n",
        "topics_TDIDF = lda_model_with_TDIDF.print_topics(num_words=5)\n",
        "for topic in topics_TDIDF:\n",
        "    print(topic)"
      ],
      "metadata": {
        "id": "e3V-WXRnDdMg",
        "outputId": "abd15200-4e67-4ae2-db7e-44776e8ac00b",
        "colab": {
          "base_uri": "https://localhost:8080/"
        }
      },
      "execution_count": 59,
      "outputs": [
        {
          "output_type": "stream",
          "name": "stderr",
          "text": [
            "/usr/local/lib/python3.11/dist-packages/ipykernel/ipkernel.py:283: DeprecationWarning: `should_run_async` will not call `transform_cell` automatically in the future. Please pass the result to `transformed_cell` argument and any exception that happen during thetransform in `preprocessing_exc_tuple` in IPython 7.17 and above.\n",
            "  and should_run_async(code)\n"
          ]
        },
        {
          "output_type": "stream",
          "name": "stdout",
          "text": [
            "(0, '0.010*\"edu\" + 0.009*\"graphics\" + 0.007*\"data\" + 0.005*\"image\" + 0.005*\"available\"')\n",
            "(1, '0.015*\"jpeg\" + 0.014*\"image\" + 0.009*\"file\" + 0.008*\"gif\" + 0.006*\"bit\"')\n",
            "(2, '0.008*\"people\" + 0.007*\"armenian\" + 0.006*\"armenians\" + 0.006*\"said\" + 0.005*\"israel\"')\n",
            "(3, '0.008*\"space\" + 0.006*\"game\" + 0.005*\"like\" + 0.005*\"team\" + 0.004*\"think\"')\n"
          ]
        }
      ]
    },
    {
      "cell_type": "code",
      "source": [
        "# Prepare visualization\n",
        "pyLDAvis.enable_notebook()\n",
        "vis = pyLDAvis.gensim.prepare(lda_model, corpus, dictionary)\n",
        "vis"
      ],
      "metadata": {
        "id": "bzedsrJpD74q",
        "outputId": "11df0b9d-f5c0-4d71-95c1-6abe64a17b86",
        "colab": {
          "base_uri": "https://localhost:8080/",
          "height": 917
        }
      },
      "execution_count": 61,
      "outputs": [
        {
          "output_type": "stream",
          "name": "stderr",
          "text": [
            "/usr/local/lib/python3.11/dist-packages/ipykernel/ipkernel.py:283: DeprecationWarning: `should_run_async` will not call `transform_cell` automatically in the future. Please pass the result to `transformed_cell` argument and any exception that happen during thetransform in `preprocessing_exc_tuple` in IPython 7.17 and above.\n",
            "  and should_run_async(code)\n"
          ]
        },
        {
          "output_type": "execute_result",
          "data": {
            "text/plain": [
              "PreparedData(topic_coordinates=              x         y  topics  cluster       Freq\n",
              "topic                                                \n",
              "0     -0.049654  0.149945       1        1  41.911296\n",
              "3     -0.233415 -0.086830       2        1  25.507229\n",
              "2      0.127021  0.102429       3        1  22.745708\n",
              "1      0.156048 -0.165543       4        1   9.835766, topic_info=          Term         Freq        Total Category  logprob  loglift\n",
              "129      image  1194.000000  1194.000000  Default  30.0000  30.0000\n",
              "1443  graphics   834.000000   834.000000  Default  29.0000  29.0000\n",
              "5122      jpeg   804.000000   804.000000  Default  28.0000  28.0000\n",
              "604       game   775.000000   775.000000  Default  27.0000  27.0000\n",
              "36         edu  1088.000000  1088.000000  Default  26.0000  26.0000\n",
              "...        ...          ...          ...      ...      ...      ...\n",
              "1012      play   120.517781   410.690625   Topic4  -5.8208   1.0931\n",
              "14         new   138.071045   929.987433   Topic4  -5.6848   0.4117\n",
              "36         edu   131.343641  1088.862873   Topic4  -5.7348   0.2041\n",
              "524      think   126.905397   940.584296   Topic4  -5.7692   0.3161\n",
              "839       year   116.459506   696.123088   Topic4  -5.8551   0.5312\n",
              "\n",
              "[294 rows x 6 columns], token_table=       Topic      Freq        Term\n",
              "term                              \n",
              "3556       2  0.013384         abc\n",
              "3556       3  0.963635         abc\n",
              "3556       4  0.026768         abc\n",
              "12029      4  0.987028  adirondack\n",
              "13819      1  0.997554         adl\n",
              "...      ...       ...         ...\n",
              "466        1  0.635292       years\n",
              "466        2  0.032070       years\n",
              "466        3  0.306956       years\n",
              "466        4  0.024434       years\n",
              "7190       2  0.992717         zip\n",
              "\n",
              "[533 rows x 3 columns], R=30, lambda_step=0.01, plot_opts={'xlab': 'PC1', 'ylab': 'PC2'}, topic_order=[1, 4, 3, 2])"
            ],
            "text/html": [
              "\n",
              "<link rel=\"stylesheet\" type=\"text/css\" href=\"https://cdn.jsdelivr.net/gh/bmabey/pyLDAvis@3.4.0/pyLDAvis/js/ldavis.v1.0.0.css\">\n",
              "\n",
              "\n",
              "<div id=\"ldavis_el2201340571018562087490953238\" style=\"background-color:white;\"></div>\n",
              "<script type=\"text/javascript\">\n",
              "\n",
              "var ldavis_el2201340571018562087490953238_data = {\"mdsDat\": {\"x\": [-0.049653780653415684, -0.23341515463115575, 0.12702096609275304, 0.15604796919181843], \"y\": [0.1499446395283696, -0.08682998052953282, 0.10242878734240068, -0.16554344634123752], \"topics\": [1, 2, 3, 4], \"cluster\": [1, 1, 1, 1], \"Freq\": [41.911296441354644, 25.507229245278108, 22.7457081800293, 9.835766133337941]}, \"tinfo\": {\"Term\": [\"image\", \"graphics\", \"jpeg\", \"game\", \"edu\", \"file\", \"said\", \"software\", \"images\", \"team\", \"ftp\", \"pit\", \"israel\", \"gif\", \"data\", \"la\", \"format\", \"det\", \"period\", \"hockey\", \"pub\", \"jews\", \"available\", \"gm\", \"color\", \"files\", \"armenians\", \"st\", \"season\", \"van\", \"israeli\", \"jewish\", \"spacecraft\", \"jews\", \"adl\", \"istanbul\", \"mission\", \"palestinian\", \"orbit\", \"arab\", \"ottoman\", \"israel\", \"bullock\", \"kuwait\", \"arabs\", \"satellites\", \"palestine\", \"religious\", \"ar\", \"gaza\", \"israelis\", \"palestinians\", \"gerard\", \"territories\", \"serbs\", \"bosnian\", \"bosnia\", \"jew\", \"ethnic\", \"orbiter\", \"launch\", \"solar\", \"occupied\", \"nazis\", \"countries\", \"political\", \"lunar\", \"greek\", \"greece\", \"mars\", \"peace\", \"policy\", \"earth\", \"professor\", \"turkey\", \"government\", \"moon\", \"space\", \"turkish\", \"muslims\", \"state\", \"history\", \"population\", \"genocide\", \"muslim\", \"war\", \"rights\", \"university\", \"people\", \"armenian\", \"world\", \"shuttle\", \"years\", \"nasa\", \"new\", \"like\", \"time\", \"armenians\", \"right\", \"think\", \"way\", \"know\", \"year\", \"jpeg\", \"graphics\", \"ftp\", \"formats\", \"unix\", \"gif\", \"software\", \"format\", \"tiff\", \"amiga\", \"sgi\", \"tar\", \"pixel\", \"user\", \"zip\", \"shareware\", \"dos\", \"pc\", \"viewer\", \"pub\", \"siggraph\", \"xv\", \"jfif\", \"quicktime\", \"server\", \"interface\", \"phigs\", \"animation\", \"msdos\", \"packages\", \"image\", \"directory\", \"color\", \"images\", \"file\", \"code\", \"package\", \"comp\", \"faq\", \"processing\", \"display\", \"version\", \"computer\", \"files\", \"available\", \"mail\", \"edu\", \"bit\", \"programs\", \"data\", \"program\", \"info\", \"use\", \"thanks\", \"information\", \"send\", \"using\", \"like\", \"know\", \"apartment\", \"azerbaijani\", \"espn\", \"sumgait\", \"mamma\", \"pens\", \"azerbaijanis\", \"beat\", \"daughter\", \"karabagh\", \"karina\", \"baseball\", \"nagorno\", \"crowd\", \"balcony\", \"hospital\", \"agdam\", \"hojali\", \"lyuda\", \"yassin\", \"marina\", \"czech\", \"threw\", \"courtyard\", \"shouted\", \"husband\", \"entryway\", \"diana\", \"microdistrict\", \"slot\", \"puck\", \"shot\", \"woman\", \"game\", \"flyers\", \"shouting\", \"karabakh\", \"door\", \"baku\", \"saw\", \"abc\", \"hockey\", \"went\", \"afraid\", \"came\", \"started\", \"said\", \"azeri\", \"father\", \"azerbaijan\", \"games\", \"team\", \"soldiers\", \"got\", \"play\", \"home\", \"children\", \"took\", \"armenians\", \"going\", \"people\", \"say\", \"night\", \"told\", \"left\", \"know\", \"think\", \"time\", \"armenian\", \"like\", \"year\", \"come\", \"way\", \"let\", \"right\", \"good\", \"det\", \"gm\", \"bos\", \"chi\", \"nyi\", \"que\", \"stl\", \"nyr\", \"edm\", \"phi\", \"sj\", \"tb\", \"mtl\", \"ott\", \"rw\", \"moncton\", \"den\", \"wsh\", \"rochester\", \"providence\", \"compass\", \"hfd\", \"tor\", \"adirondack\", \"binghamton\", \"wpg\", \"cgy\", \"breton\", \"buf\", \"fredericton\", \"cal\", \"pit\", \"henrik\", \"pts\", \"mon\", \"vs\", \"nj\", \"min\", \"la\", \"ahl\", \"pt\", \"van\", \"st\", \"period\", \"win\", \"shots\", \"pp\", \"season\", \"nhl\", \"team\", \"john\", \"play\", \"new\", \"edu\", \"think\", \"year\"], \"Freq\": [1194.0, 834.0, 804.0, 775.0, 1088.0, 651.0, 969.0, 562.0, 594.0, 684.0, 507.0, 306.0, 792.0, 489.0, 743.0, 298.0, 453.0, 249.0, 404.0, 508.0, 424.0, 679.0, 657.0, 234.0, 416.0, 491.0, 790.0, 330.0, 375.0, 275.0, 471.6216294058244, 440.201448920538, 227.00138231510016, 677.580845145879, 207.8075849948032, 205.65156415776252, 255.22193795580804, 193.86136516809958, 293.56184952463315, 374.27735413985914, 205.93403343280755, 788.2471859667728, 123.15463812703045, 122.4141795002877, 214.57313745262672, 138.00911462055976, 114.59440775488982, 121.54612581236562, 109.11487681556088, 109.35914922825238, 106.87236110414884, 147.0329494545409, 90.64390647453865, 93.29549858538152, 89.69393468065597, 89.7580900863086, 91.63888987845259, 86.1856299930411, 100.53087547444964, 85.81977078783291, 378.8365009841725, 219.318883379063, 110.07976847122323, 104.73677442915374, 133.40144798249935, 196.71216767666425, 196.76829861611645, 281.15247627111347, 169.88924016915556, 164.68162371076127, 188.69802440763527, 177.75773332805426, 398.5836235567418, 171.54562709435532, 348.6143450758437, 467.9152131481458, 246.55803470627401, 1157.1392361592318, 555.659565457656, 266.11132004755973, 366.3893845127453, 327.5688517748608, 253.77805825109184, 276.93400632476124, 271.56527552112175, 328.903957622413, 263.50199751809674, 379.5020881153493, 819.1379129786344, 576.9941613235832, 396.7122696500624, 260.37348396067625, 416.3685826855295, 358.098780237334, 483.67312759638554, 524.9880797660542, 466.66496905495944, 357.0908427642397, 314.66129627172745, 329.6731369830816, 297.9600029955536, 302.8179704769436, 284.836432088221, 804.1126426222099, 833.3907494013002, 506.8001459329388, 222.28179562811232, 177.45706617660582, 487.20137114405367, 560.3124127959202, 451.81830472070465, 156.17665678744277, 149.6668660008495, 144.7992353423928, 134.74947893036438, 138.18689927644425, 176.58705715460658, 121.16399024474688, 116.32686426075195, 121.0347564428838, 230.0281668948189, 116.2425898825526, 422.1765959650851, 107.29598360868354, 101.06530568518168, 99.4548834253056, 99.46899459812582, 157.1009017954119, 100.41093992504551, 100.96174194726635, 90.63584215373133, 89.96642652101777, 86.26190621462126, 1180.1467832766664, 179.61477493608274, 408.28217075938534, 576.7385051114178, 629.1315473698098, 262.40449823714613, 260.01239676183286, 143.92677220338135, 201.57070457402725, 210.5454718406114, 287.81072006489956, 363.13125234520066, 322.2892480398875, 444.4359771715896, 561.4414538685584, 405.93588764869, 859.061304172439, 459.16450766739996, 250.39417228523178, 579.224231150747, 434.0123114915806, 213.25332001071587, 465.2378092022012, 256.6589440293258, 344.5239653704193, 261.05623089180705, 258.32715460954694, 337.11093681748144, 301.14936139084375, 151.494813374397, 164.2126417507628, 156.8319196301933, 126.77270316738424, 111.29786557019743, 117.13283825696715, 102.95461991994492, 111.93583489748258, 85.87732535536449, 80.04527968552412, 70.24657349938781, 79.57063243183698, 71.54452222705486, 87.45152429950562, 61.638862295214146, 58.32106398602826, 50.98985495557204, 48.142469299880176, 45.429693596580286, 47.68048207829493, 44.71624005887602, 44.061015009356915, 41.78331438507131, 39.9513327864094, 37.71264355317935, 36.25529276617574, 35.505705614808136, 34.5051445426928, 34.43535844093146, 33.288082696879876, 145.97640714289085, 204.01463375658906, 90.46621496024328, 726.4781612233068, 153.50799920522434, 68.23245758841469, 118.28640024859223, 135.55046037750387, 133.76113936670478, 241.9092064573416, 72.14756430933633, 437.1835816468648, 341.4645038077937, 74.14270111427597, 276.6194473498269, 246.06764949969627, 679.6737271053765, 124.62593594338495, 115.41630422416443, 244.1551858775966, 301.4172879649444, 455.86204200875414, 206.2727808135747, 301.957741124475, 279.23332270727286, 205.1158705334248, 236.74651758417642, 219.73813101627852, 433.0918417641412, 322.75927902194474, 651.0106265940911, 329.0862969321873, 191.94967787407953, 203.0350295785819, 232.30670888454594, 462.61656852247205, 393.16509865546817, 423.7358044878564, 387.4256944392066, 465.2591341168853, 291.1954007835404, 225.7498189307454, 283.4850582593084, 241.24410067403858, 261.5609902207243, 264.65756623170785, 249.16299650006235, 233.57568495351666, 212.90725328295625, 197.24525779129513, 157.1386354832328, 153.2126182113064, 149.64698977387457, 127.97164969883201, 93.3873619416803, 94.42889636683876, 80.52603331834217, 76.2583123930705, 73.76194569442971, 67.32064469316236, 68.25352211657025, 62.42996295124382, 61.89973249169102, 61.70517286553783, 54.16692066483477, 52.04808074095773, 48.268076638210076, 45.94599929070508, 195.97110729227924, 44.88565666218664, 44.86505517352517, 44.51333467325837, 41.64073766468923, 41.33016336226353, 150.7093433423749, 39.54266247048396, 147.42894663197356, 289.74789131016905, 72.31909862323944, 213.83270205748988, 113.55849052053244, 189.95295537943522, 151.47910277769932, 132.1744764079824, 258.40480349445414, 64.9576246076262, 80.93122116400967, 204.81521186935967, 218.41658533252516, 223.86864581141003, 156.15559338761798, 112.3211047360089, 141.11067730460965, 163.99006414508784, 138.65353576467433, 178.2789046478956, 110.2844341856034, 120.5177812713923, 138.07104452370996, 131.34364117669057, 126.90539727257857, 116.45950565976322], \"Total\": [1194.0, 834.0, 804.0, 775.0, 1088.0, 651.0, 969.0, 562.0, 594.0, 684.0, 507.0, 306.0, 792.0, 489.0, 743.0, 298.0, 453.0, 249.0, 404.0, 508.0, 424.0, 679.0, 657.0, 234.0, 416.0, 491.0, 790.0, 330.0, 375.0, 275.0, 472.57545453306216, 441.35735672704436, 227.71214742745352, 679.7525282627594, 208.5099459834551, 206.35058676379012, 256.1552935553951, 194.64594612284947, 294.7512305428495, 375.82360402317545, 206.9144304099636, 792.3983312644813, 123.85216364279361, 123.11662987810867, 215.8530417767704, 138.85649278547842, 115.30203782845504, 122.32601926150429, 109.81960765499078, 110.1062599009059, 107.64415961899712, 148.1083173090604, 91.34132396209662, 94.03983126563345, 90.41019268243096, 90.48574153288926, 92.39188188872029, 86.89522789568778, 101.36486306117997, 86.53521676204508, 382.7338795854024, 221.15439029869646, 111.05055358836277, 105.61257508165951, 135.00422769179582, 201.05012003606154, 201.11995463260118, 290.0097630573126, 173.20208533486183, 167.7755094962718, 193.48629333473923, 182.14819215743978, 423.6215823604869, 176.16146880501668, 377.17935352676335, 519.4506722606902, 262.9264646924802, 1416.0105016038208, 644.4238252050975, 286.8469657526459, 412.2281245008041, 365.16985284419957, 274.69948304463674, 304.99236334791414, 301.428465283235, 381.36319709539373, 291.73890291144653, 482.1567186997245, 1588.7743523042418, 964.9178756401385, 572.9985817509555, 296.7292440311427, 654.8168910772831, 529.1867102508788, 929.9874334540132, 1442.2937518470417, 1134.145420496394, 790.9412794321629, 664.6994227867242, 940.5842956706988, 712.6553820062138, 1119.4640323897452, 696.1230881332165, 804.8375104123355, 834.643378982355, 507.9342004538855, 222.98864393136955, 178.18743740478268, 489.2085599057482, 562.6916459918448, 453.8314744749982, 156.88523169950403, 150.37581349786515, 145.50963889771458, 135.4532822865253, 138.9141563370877, 177.51706462503995, 121.88770660281793, 117.02667576570407, 121.77811339829108, 231.44615225062745, 116.95931915020478, 424.8929318940707, 108.02055276291922, 101.76518170699613, 100.15106681941494, 100.16874726032799, 158.22288186804394, 101.16609403928675, 101.74003967832974, 91.34250090102817, 90.67079199204242, 86.96901428323766, 1194.4157204181065, 181.33580127052366, 416.27338475990484, 594.0057819595289, 651.8422382640409, 268.8465450320777, 266.4480208274209, 146.25010095760518, 207.23807107460405, 217.579996369329, 303.40808168498916, 388.0584885429066, 346.0919148284552, 491.31865696866726, 657.8743795996813, 464.90819941804585, 1088.8628730315945, 540.658723663883, 270.94367868465565, 743.3590944348025, 616.4601206859833, 229.87493013590364, 753.3739467865691, 326.09645318865535, 609.0004338475787, 371.5563407459783, 397.66530530607577, 1442.2937518470417, 1119.4640323897452, 152.2030514098374, 164.99763697562406, 157.64182713530468, 127.47795687198212, 112.00080808857497, 117.90145826035422, 103.66399644767881, 112.76136940147559, 86.59391910706448, 80.8248941166481, 70.94604382672811, 80.36653603327731, 72.33187839957581, 88.43629209428894, 62.33959959582452, 59.03300941327069, 51.69866299761135, 48.84348123782354, 46.13050345254058, 48.42231430470107, 45.41693810222248, 44.77100556912194, 42.51210643309771, 40.650929413471246, 38.417281752140525, 36.95534312288145, 36.205628139245384, 35.20437260192393, 35.13504038208127, 34.00470701207177, 149.12759962106796, 210.1941943187637, 92.97927476366816, 775.3923330730537, 159.45525664131424, 70.08076901143332, 122.89640021096753, 142.49581266424337, 141.25999048413632, 262.44764444512043, 74.71712363552669, 508.6142907754842, 391.4735762608236, 77.40092556102911, 333.98891937175904, 299.16242834898304, 969.6941696230464, 139.37251901537073, 128.99479658724195, 308.3955516293004, 395.58715253824425, 684.2558482564908, 270.6050286154824, 453.48812165479677, 410.6906253781483, 276.0747215319077, 335.64159231831775, 303.79648292082373, 790.9412794321629, 525.5744580899375, 1588.7743523042418, 585.0531508207843, 256.70611307964316, 280.88633837669704, 352.25051659749874, 1119.4640323897452, 940.5842956706988, 1134.145420496394, 964.9178756401385, 1442.2937518470417, 696.1230881332165, 377.45335699990864, 712.6553820062138, 461.3068812425599, 664.6994227867242, 718.4586386997792, 249.88178795524723, 234.31338787096584, 213.6224843592003, 197.97076873033834, 157.86029435120918, 153.93800845246128, 150.40057459443503, 128.6813079095464, 94.09583371659943, 95.15312313302424, 81.23605933770406, 76.96720823467246, 74.46838665100599, 68.02956868321989, 68.99889537038908, 63.13811186251254, 62.60438421361924, 62.4097673867516, 54.874787260421826, 52.75661147645361, 48.97692922625933, 46.65073326815395, 198.9883236478816, 45.59139425965041, 45.57223304299909, 45.22426533637296, 42.34605636531576, 42.03480511010424, 153.28644241126722, 40.24732326140423, 150.08571921615842, 306.9990955083558, 74.41696674377454, 233.44133140242946, 120.66569726398764, 208.4784105981453, 164.10147366969, 143.56190866494867, 298.7330214898577, 67.59715379360935, 87.74004431230205, 275.9652816371017, 330.6194975199744, 404.65334908624334, 255.99197540166256, 163.84093519837856, 250.40128335519626, 375.76733647091805, 280.286999560219, 684.2558482564908, 228.79650280294135, 410.6906253781483, 929.9874334540132, 1088.8628730315945, 940.5842956706988, 696.1230881332165], \"Category\": [\"Default\", \"Default\", \"Default\", \"Default\", \"Default\", \"Default\", \"Default\", \"Default\", \"Default\", \"Default\", \"Default\", \"Default\", \"Default\", \"Default\", \"Default\", \"Default\", \"Default\", \"Default\", \"Default\", \"Default\", \"Default\", \"Default\", \"Default\", \"Default\", \"Default\", \"Default\", \"Default\", \"Default\", \"Default\", \"Default\", \"Topic1\", \"Topic1\", \"Topic1\", \"Topic1\", \"Topic1\", \"Topic1\", \"Topic1\", \"Topic1\", \"Topic1\", \"Topic1\", \"Topic1\", \"Topic1\", \"Topic1\", \"Topic1\", \"Topic1\", \"Topic1\", \"Topic1\", \"Topic1\", \"Topic1\", \"Topic1\", \"Topic1\", \"Topic1\", \"Topic1\", \"Topic1\", \"Topic1\", \"Topic1\", \"Topic1\", \"Topic1\", \"Topic1\", \"Topic1\", \"Topic1\", \"Topic1\", \"Topic1\", \"Topic1\", \"Topic1\", \"Topic1\", \"Topic1\", \"Topic1\", \"Topic1\", \"Topic1\", \"Topic1\", \"Topic1\", \"Topic1\", \"Topic1\", \"Topic1\", \"Topic1\", \"Topic1\", \"Topic1\", \"Topic1\", \"Topic1\", \"Topic1\", \"Topic1\", \"Topic1\", \"Topic1\", \"Topic1\", \"Topic1\", \"Topic1\", \"Topic1\", \"Topic1\", \"Topic1\", \"Topic1\", \"Topic1\", \"Topic1\", \"Topic1\", \"Topic1\", \"Topic1\", \"Topic1\", \"Topic1\", \"Topic1\", \"Topic1\", \"Topic1\", \"Topic1\", \"Topic1\", \"Topic2\", \"Topic2\", \"Topic2\", \"Topic2\", \"Topic2\", \"Topic2\", \"Topic2\", \"Topic2\", \"Topic2\", \"Topic2\", \"Topic2\", \"Topic2\", \"Topic2\", \"Topic2\", \"Topic2\", \"Topic2\", \"Topic2\", \"Topic2\", \"Topic2\", \"Topic2\", \"Topic2\", \"Topic2\", \"Topic2\", \"Topic2\", \"Topic2\", \"Topic2\", \"Topic2\", \"Topic2\", \"Topic2\", \"Topic2\", \"Topic2\", \"Topic2\", \"Topic2\", \"Topic2\", \"Topic2\", \"Topic2\", \"Topic2\", \"Topic2\", \"Topic2\", \"Topic2\", \"Topic2\", \"Topic2\", \"Topic2\", \"Topic2\", \"Topic2\", \"Topic2\", \"Topic2\", \"Topic2\", \"Topic2\", \"Topic2\", \"Topic2\", \"Topic2\", \"Topic2\", \"Topic2\", \"Topic2\", \"Topic2\", \"Topic2\", \"Topic2\", \"Topic2\", \"Topic3\", \"Topic3\", \"Topic3\", \"Topic3\", \"Topic3\", \"Topic3\", \"Topic3\", \"Topic3\", \"Topic3\", \"Topic3\", \"Topic3\", \"Topic3\", \"Topic3\", \"Topic3\", \"Topic3\", \"Topic3\", \"Topic3\", \"Topic3\", \"Topic3\", \"Topic3\", \"Topic3\", \"Topic3\", \"Topic3\", \"Topic3\", \"Topic3\", \"Topic3\", \"Topic3\", \"Topic3\", \"Topic3\", \"Topic3\", \"Topic3\", \"Topic3\", \"Topic3\", \"Topic3\", \"Topic3\", \"Topic3\", \"Topic3\", \"Topic3\", \"Topic3\", \"Topic3\", \"Topic3\", \"Topic3\", \"Topic3\", \"Topic3\", \"Topic3\", \"Topic3\", \"Topic3\", \"Topic3\", \"Topic3\", \"Topic3\", \"Topic3\", \"Topic3\", \"Topic3\", \"Topic3\", \"Topic3\", \"Topic3\", \"Topic3\", \"Topic3\", \"Topic3\", \"Topic3\", \"Topic3\", \"Topic3\", \"Topic3\", \"Topic3\", \"Topic3\", \"Topic3\", \"Topic3\", \"Topic3\", \"Topic3\", \"Topic3\", \"Topic3\", \"Topic3\", \"Topic3\", \"Topic3\", \"Topic3\", \"Topic3\", \"Topic4\", \"Topic4\", \"Topic4\", \"Topic4\", \"Topic4\", \"Topic4\", \"Topic4\", \"Topic4\", \"Topic4\", \"Topic4\", \"Topic4\", \"Topic4\", \"Topic4\", \"Topic4\", \"Topic4\", \"Topic4\", \"Topic4\", \"Topic4\", \"Topic4\", \"Topic4\", \"Topic4\", \"Topic4\", \"Topic4\", \"Topic4\", \"Topic4\", \"Topic4\", \"Topic4\", \"Topic4\", \"Topic4\", \"Topic4\", \"Topic4\", \"Topic4\", \"Topic4\", \"Topic4\", \"Topic4\", \"Topic4\", \"Topic4\", \"Topic4\", \"Topic4\", \"Topic4\", \"Topic4\", \"Topic4\", \"Topic4\", \"Topic4\", \"Topic4\", \"Topic4\", \"Topic4\", \"Topic4\", \"Topic4\", \"Topic4\", \"Topic4\", \"Topic4\", \"Topic4\", \"Topic4\", \"Topic4\", \"Topic4\"], \"logprob\": [30.0, 29.0, 28.0, 27.0, 26.0, 25.0, 24.0, 23.0, 22.0, 21.0, 20.0, 19.0, 18.0, 17.0, 16.0, 15.0, 14.0, 13.0, 12.0, 11.0, 10.0, 9.0, 8.0, 7.0, 6.0, 5.0, 4.0, 3.0, 2.0, 1.0, -5.906, -5.9749, -6.6372, -5.5436, -6.7255, -6.736, -6.52, -6.795, -6.3801, -6.1371, -6.7346, -5.3923, -7.2487, -7.2547, -6.6935, -7.1348, -7.3207, -7.2619, -7.3697, -7.3675, -7.3905, -7.0715, -7.5552, -7.5264, -7.5657, -7.565, -7.5443, -7.6056, -7.4517, -7.6099, -6.125, -6.6716, -7.3609, -7.4107, -7.1688, -6.7804, -6.7801, -6.4232, -6.927, -6.9581, -6.822, -6.8817, -6.0742, -6.9173, -6.2082, -5.9139, -6.5545, -5.0084, -5.742, -6.4782, -6.1584, -6.2704, -6.5257, -6.4384, -6.4579, -6.2664, -6.4881, -6.1233, -5.3539, -5.7043, -6.0789, -6.5, -6.0306, -6.1813, -5.8807, -5.7988, -5.9165, -6.1842, -6.3106, -6.264, -6.3652, -6.349, -6.4102, -4.8758, -4.84, -5.3374, -6.1616, -6.3868, -5.3769, -5.2371, -5.4523, -6.5146, -6.5571, -6.5902, -6.6621, -6.6369, -6.3917, -6.7684, -6.8091, -6.7695, -6.1273, -6.8099, -5.5201, -6.89, -6.9498, -6.9658, -6.9657, -6.5087, -6.9563, -6.9508, -7.0587, -7.0661, -7.1082, -4.4922, -6.3747, -5.5536, -5.2082, -5.1212, -5.9957, -6.0048, -6.5962, -6.2594, -6.2158, -5.9032, -5.6708, -5.7901, -5.4687, -5.235, -5.5594, -4.8097, -5.4361, -6.0425, -5.2039, -5.4925, -6.2031, -5.423, -6.0178, -5.7234, -6.0008, -6.0113, -5.7451, -5.8579, -6.4304, -6.3498, -6.3958, -6.6086, -6.7388, -6.6877, -6.8167, -6.733, -6.998, -7.0684, -7.199, -7.0743, -7.1806, -6.9799, -7.3297, -7.385, -7.5193, -7.5768, -7.6348, -7.5864, -7.6506, -7.6654, -7.7185, -7.7633, -7.821, -7.8604, -7.8813, -7.9099, -7.9119, -7.9458, -6.4675, -6.1328, -6.946, -4.8628, -6.4172, -7.228, -6.6779, -6.5416, -6.5549, -5.9624, -7.1723, -5.3706, -5.6177, -7.145, -5.8283, -5.9454, -4.9294, -6.6256, -6.7024, -5.9532, -5.7425, -5.3288, -6.1218, -5.7407, -5.8189, -6.1274, -5.984, -6.0585, -5.38, -5.6741, -4.9724, -5.6546, -6.1937, -6.1376, -6.0029, -5.3141, -5.4767, -5.4019, -5.4914, -5.3084, -5.777, -6.0315, -5.8038, -5.9652, -5.8843, -5.8725, -5.0945, -5.1591, -5.2518, -5.3282, -5.5555, -5.5808, -5.6043, -5.7608, -6.0759, -6.0648, -6.224, -6.2785, -6.3118, -6.4031, -6.3894, -6.4786, -6.4871, -6.4902, -6.6205, -6.6604, -6.7358, -6.7851, -5.3346, -6.8085, -6.809, -6.8168, -6.8835, -6.891, -5.5973, -6.9352, -5.6193, -4.9436, -6.3315, -5.2474, -5.8803, -5.3658, -5.5922, -5.7285, -5.0581, -6.4389, -6.219, -5.2905, -5.2262, -5.2016, -5.5618, -5.8913, -5.6631, -5.5128, -5.6806, -5.4293, -5.9096, -5.8208, -5.6848, -5.7348, -5.7692, -5.8551], \"loglift\": [30.0, 29.0, 28.0, 27.0, 26.0, 25.0, 24.0, 23.0, 22.0, 21.0, 20.0, 19.0, 18.0, 17.0, 16.0, 15.0, 14.0, 13.0, 12.0, 11.0, 10.0, 9.0, 8.0, 7.0, 6.0, 5.0, 4.0, 3.0, 2.0, 1.0, 0.8676, 0.867, 0.8665, 0.8664, 0.8662, 0.8662, 0.866, 0.8656, 0.8656, 0.8655, 0.8649, 0.8644, 0.864, 0.8639, 0.8637, 0.8635, 0.8635, 0.8632, 0.8632, 0.8628, 0.8624, 0.8623, 0.862, 0.8617, 0.8617, 0.8615, 0.8614, 0.8614, 0.8614, 0.8613, 0.8594, 0.8613, 0.8608, 0.8613, 0.8577, 0.8478, 0.8477, 0.8386, 0.8503, 0.851, 0.8446, 0.8452, 0.8087, 0.8431, 0.7909, 0.7651, 0.8053, 0.6677, 0.7214, 0.7946, 0.7517, 0.761, 0.7904, 0.7731, 0.7653, 0.7216, 0.7678, 0.6302, 0.2071, 0.3554, 0.5019, 0.7389, 0.4168, 0.4791, 0.2159, -0.141, -0.0184, 0.0744, 0.1218, -0.1788, -0.0024, -0.4379, -0.024, 1.3653, 1.3647, 1.364, 1.363, 1.3621, 1.3621, 1.362, 1.3618, 1.3617, 1.3615, 1.3613, 1.361, 1.361, 1.361, 1.3603, 1.3602, 1.3601, 1.3601, 1.3601, 1.3598, 1.3595, 1.3593, 1.3592, 1.3592, 1.3591, 1.3587, 1.3585, 1.3584, 1.3584, 1.358, 1.3542, 1.3567, 1.3468, 1.3367, 1.3307, 1.342, 1.3418, 1.3502, 1.3385, 1.3333, 1.3134, 1.2998, 1.295, 1.2659, 1.2077, 1.2306, 1.1292, 1.2028, 1.2873, 1.1167, 1.0153, 1.2912, 0.8842, 1.1268, 0.7966, 1.0132, 0.9348, -0.0874, 0.0532, 1.4761, 1.476, 1.4756, 1.4752, 1.4745, 1.4743, 1.4739, 1.4734, 1.4725, 1.4711, 1.4709, 1.4708, 1.4698, 1.4696, 1.4695, 1.4687, 1.467, 1.4663, 1.4655, 1.4654, 1.4652, 1.4648, 1.4635, 1.4634, 1.4623, 1.4617, 1.4613, 1.4607, 1.4607, 1.4595, 1.4594, 1.451, 1.4534, 1.4156, 1.4428, 1.4541, 1.4426, 1.4308, 1.4262, 1.3993, 1.4458, 1.3295, 1.3441, 1.4378, 1.2923, 1.2854, 1.1254, 1.369, 1.3696, 1.2472, 1.2089, 1.0747, 1.2093, 1.0741, 1.095, 1.1837, 1.1317, 1.1569, 0.8785, 0.9932, 0.5886, 0.9054, 1.1901, 1.1562, 1.0645, 0.5971, 0.6085, 0.4963, 0.5683, 0.3494, 0.6093, 0.9668, 0.559, 0.8325, 0.5481, 0.4821, 2.3163, 2.316, 2.3158, 2.3155, 2.3146, 2.3144, 2.3141, 2.3136, 2.3116, 2.3115, 2.3104, 2.3099, 2.3096, 2.3087, 2.3083, 2.3079, 2.3078, 2.3078, 2.3062, 2.3056, 2.3046, 2.3039, 2.3039, 2.3035, 2.3035, 2.3033, 2.3023, 2.3022, 2.3022, 2.3015, 2.3013, 2.2613, 2.2905, 2.2314, 2.2584, 2.2261, 2.2391, 2.2365, 2.1741, 2.2793, 2.2384, 2.021, 1.9046, 1.7272, 1.8249, 1.9416, 1.7456, 1.49, 1.6153, 0.9742, 1.5894, 1.0931, 0.4117, 0.2041, 0.3161, 0.5312]}, \"token.table\": {\"Topic\": [2, 3, 4, 4, 1, 2, 3, 3, 3, 4, 2, 2, 3, 1, 1, 3, 1, 3, 1, 3, 1, 3, 4, 1, 2, 3, 4, 1, 3, 3, 3, 1, 3, 1, 3, 3, 3, 3, 4, 1, 2, 3, 4, 4, 1, 1, 4, 2, 4, 1, 1, 3, 4, 1, 2, 3, 4, 4, 4, 1, 3, 4, 1, 2, 4, 1, 2, 3, 1, 2, 3, 4, 1, 2, 4, 1, 2, 1, 4, 3, 1, 3, 3, 1, 2, 4, 3, 4, 4, 3, 2, 4, 1, 2, 4, 1, 3, 2, 1, 2, 3, 4, 4, 1, 2, 3, 4, 3, 3, 1, 1, 2, 4, 1, 3, 1, 2, 3, 4, 1, 2, 3, 4, 3, 4, 2, 4, 2, 4, 1, 2, 2, 3, 4, 1, 3, 4, 1, 1, 3, 1, 2, 4, 4, 1, 2, 3, 4, 1, 2, 3, 4, 1, 2, 3, 4, 1, 2, 3, 4, 2, 4, 1, 3, 1, 2, 3, 3, 4, 4, 1, 2, 3, 4, 3, 4, 3, 1, 2, 3, 4, 3, 3, 1, 2, 3, 1, 2, 1, 2, 3, 4, 1, 2, 3, 4, 2, 1, 2, 1, 1, 1, 1, 1, 3, 1, 3, 2, 1, 2, 3, 4, 2, 3, 1, 3, 4, 3, 1, 2, 3, 4, 1, 1, 2, 3, 4, 1, 2, 4, 1, 2, 3, 4, 1, 2, 3, 4, 1, 2, 3, 4, 1, 4, 3, 1, 2, 3, 4, 3, 3, 1, 2, 3, 2, 3, 4, 1, 1, 3, 4, 4, 1, 2, 4, 2, 4, 1, 3, 1, 3, 3, 1, 2, 4, 1, 1, 2, 3, 4, 3, 4, 1, 3, 4, 1, 2, 3, 4, 4, 4, 1, 3, 1, 4, 1, 4, 1, 3, 1, 2, 3, 2, 1, 1, 1, 3, 1, 2, 1, 3, 3, 1, 2, 3, 4, 1, 2, 3, 4, 4, 2, 2, 4, 2, 1, 2, 3, 4, 1, 2, 3, 4, 1, 2, 3, 1, 3, 1, 2, 3, 4, 1, 2, 3, 1, 2, 3, 1, 2, 4, 1, 2, 4, 4, 2, 4, 1, 3, 4, 1, 2, 3, 4, 4, 2, 1, 1, 2, 3, 4, 1, 3, 4, 4, 4, 1, 2, 3, 4, 1, 1, 2, 3, 4, 1, 2, 3, 4, 3, 4, 1, 2, 3, 4, 1, 2, 4, 2, 2, 1, 3, 4, 3, 4, 3, 1, 3, 1, 2, 4, 2, 4, 3, 1, 2, 1, 4, 1, 3, 1, 2, 3, 4, 1, 1, 2, 3, 4, 1, 2, 3, 4, 1, 2, 3, 4, 4, 3, 2, 4, 1, 3, 4, 1, 1, 2, 3, 4, 1, 2, 3, 4, 3, 2, 1, 2, 3, 4, 1, 2, 3, 4, 1, 2, 3, 4, 2, 3, 4, 1, 2, 3, 4, 1, 3, 1, 2, 3, 4, 2, 1, 2, 3, 4, 2, 1, 2, 3, 4, 1, 2, 3, 4, 1, 2, 2, 1, 2, 3, 4, 1, 3, 1, 2, 3, 4, 1, 3, 4, 1, 2, 3, 4, 1, 3, 1, 2, 3, 4, 4, 4, 2, 3, 1, 2, 3, 4, 1, 2, 3, 4, 2], \"Freq\": [0.013383812857652853, 0.9636345257510054, 0.026767625715305707, 0.9870283796042226, 0.9975543325712838, 0.03875922643372732, 0.9560609186986072, 0.9864858594574558, 0.02958704453898295, 0.9615789475169458, 0.997500838139303, 0.9962503665035481, 0.9920957471043209, 0.9925367821603802, 0.9951477129066566, 0.0026608227617825045, 0.9960480437535247, 0.004632781598853604, 0.5979783508697163, 0.40107040170984437, 0.45136094079739963, 0.5474489842164539, 0.0012643163607770297, 0.10032310429866749, 0.8527463865386737, 0.009120282208969772, 0.03648112883587909, 0.2075256911517637, 0.7911916975160992, 0.993953628706989, 0.993594724586815, 0.10045021858617628, 0.8968769516622882, 0.04955401721328948, 0.9486054723686844, 0.9945524257770937, 0.9954391958224311, 0.9932479588930424, 0.9874433837275614, 0.06843503744702763, 0.8489643834644779, 0.055487868200292674, 0.025894338493469914, 0.997086054115195, 0.9957584813653618, 0.99463184448002, 0.9753821837071991, 0.013047468311868078, 0.9850838575460399, 0.9931195094398886, 0.006662859099604053, 0.006662859099604053, 0.9794402876417958, 0.15868789928628244, 0.002994111307288348, 0.8293688321188724, 0.011976445229153391, 0.9918278962666474, 0.9950964036935137, 0.29197811666635815, 0.7061103433666008, 0.0029793685374118178, 0.01859797007770146, 0.9745336320715566, 0.0037195940155402927, 0.014413604663821198, 0.9801251171398414, 0.0024022674439701996, 0.27023206472640987, 0.11657069458786308, 0.5987494767467513, 0.015896003807435874, 0.013675204235105163, 0.9846147049275717, 0.9800532772941685, 0.06645633432783381, 0.9303886805896733, 0.9851543338600379, 0.007407175442556676, 0.9839873424085714, 0.01130757493692545, 0.9837590195125142, 0.9827789088200938, 0.21927491197768104, 0.7788967732213332, 0.0013452448587587794, 0.993141330093512, 0.9903459762249724, 0.9964711795827027, 0.9941946813188552, 0.9926335491328, 0.005514630828515555, 0.036254802241624716, 0.9492166405079926, 0.013183564451499897, 0.0421065004495082, 0.9544140101888525, 0.9936104002880537, 0.9418783570391019, 0.04721194772125824, 0.004721194772125824, 0.007081792158188736, 0.9883540676211032, 0.07255275384681771, 0.7888963994229925, 0.01744939649480426, 0.12030899688522936, 0.994320547665834, 0.9959285733553837, 0.9964004976659441, 0.019301472838743186, 0.9747243783565309, 0.009650736419371593, 0.10077925888435214, 0.8915088285923458, 0.026079930084423022, 0.9649574131236518, 0.007670567671889124, 0.0015341135343778247, 0.08955491385462694, 0.9036904943512355, 0.004070677902483043, 0.0020353389512415216, 0.9657881668110476, 0.03135675866269635, 0.9959644172385425, 0.0022034611000852707, 0.9955663933645257, 0.9938549140324716, 0.001968758943789193, 0.998160784501121, 0.006448348515626765, 0.9363002044690063, 0.05545579723439018, 0.0025278879599188266, 0.7608942759355669, 0.2350935802724509, 0.9899527973986083, 0.9082194614952297, 0.09180557733525788, 0.9962632032546599, 0.9954854430466759, 0.004088235905735835, 0.998662526824381, 0.2815966372069662, 0.07420451926399786, 0.6145656339043926, 0.0304428796980504, 0.26445502881536775, 0.2783737145424924, 0.36884517176880244, 0.0876877200808851, 0.12569237710572145, 0.13671802422025842, 0.6659490857180329, 0.072769270955944, 0.9009517649928667, 0.003850221217918234, 0.09433041983899673, 0.001925110608959117, 0.9980310405333129, 0.0011981164952380708, 0.9815124319740662, 0.017320807623071758, 0.9689328974227255, 0.017240798886525365, 0.013792639109220291, 0.026875591515120617, 0.9675212945443422, 0.9860509530597631, 0.8982121537287522, 0.008215355064592245, 0.08215355064592246, 0.013692258440987076, 0.859197250108144, 0.13959497656219275, 0.9827309352968403, 0.15575493388673117, 0.02535545435365391, 0.7425525917855788, 0.07244415529615403, 0.9825011561575842, 0.9741487145795181, 0.010046753232450245, 0.9879307345242742, 0.0016744588720750408, 0.028619250041505912, 0.9713710161146418, 0.034801533143567875, 0.9265908199474946, 0.004350191642945984, 0.034801533143567875, 0.39244635424975277, 0.5665020594818607, 0.02134645441525852, 0.02134645441525852, 0.9884734697888612, 0.9944493431006315, 0.005047966208632647, 0.9987823012652429, 0.9940158423710389, 0.9983010139719571, 0.9896976172642938, 0.9969245856982876, 0.0022657376947688352, 0.9974218142781487, 0.0029422472397585505, 0.9885066943771008, 0.23164689735510524, 0.17045715088394536, 0.11800879676580832, 0.4807765794162561, 0.9989594043499458, 0.9897940588025071, 0.0325477393408878, 0.9601583105561902, 0.00813693483522195, 0.9866653054109875, 0.27066523910837853, 0.26887866987333975, 0.41359077791148274, 0.04734408472852826, 0.9909303082839891, 0.11381399963898646, 0.006694941155234497, 0.013389882310468995, 0.8636474090252502, 0.9902441884960717, 0.002612781499989635, 0.007838344499968905, 0.27537220083295905, 0.042583330025715314, 0.6586221710643969, 0.022711109347048168, 0.3208276442817251, 0.13223301554854885, 0.5224287991344307, 0.02384529788580389, 0.3640035182345277, 0.23365559170483016, 0.32240311615058165, 0.07973410399422988, 0.9795149385344315, 0.01988862819359252, 0.9754933640881754, 0.02150962278685903, 0.8732906851464766, 0.04301924557371806, 0.06237790608189118, 0.991064277966785, 0.9908197663769395, 0.9834570045139187, 0.017881036445707613, 0.9676949173890764, 0.05572508804317143, 0.020896908016189285, 0.9194639527123286, 0.9954898704634998, 0.024862078188109406, 0.033149437584145874, 0.9447589711481574, 0.9819742493251801, 0.9394261634670065, 0.022820068748186394, 0.04183679270500839, 0.9926018955244011, 0.9937102618698983, 0.9023699860078483, 0.09620856468466031, 0.9273237362021718, 0.06972358918813322, 0.9954117270708435, 0.6765098084762522, 0.30235075239162107, 0.02078661422692395, 0.9941997903073012, 0.5204371398895179, 0.1784970355819421, 0.15269023525684203, 0.14838910186932536, 0.5030557971694527, 0.49592025394719097, 0.19867076552313045, 0.7479369996164912, 0.050641567682366585, 0.0060937904921733975, 0.054844114429560574, 0.018281371476520192, 0.920162364318183, 0.9945502803301811, 0.9947054632827845, 0.990539861761906, 0.009004907834199145, 0.9974513065086583, 0.0033926915187369334, 0.9938150410656875, 0.9848658649003923, 0.9955806349119691, 0.004832915703456161, 0.011259231690608457, 0.975800079852733, 0.011259231690608457, 0.9888579364590496, 0.9973804640911516, 0.9966814303831338, 0.9925168462568672, 0.006751815280658961, 0.004320659428881428, 0.9937516686427285, 0.976813379090488, 0.020673299028370118, 0.9923541381620269, 0.5154917051702039, 0.06734751215288379, 0.40974981693016216, 0.007552992017145846, 0.1482750609515214, 0.01235625507929345, 0.2866651178396081, 0.5535602275523466, 0.9878813947976025, 0.9927261707320981, 0.05537475598046932, 0.944628190255065, 0.9934192715761134, 0.012174614395924403, 0.014609537275109283, 0.6793434832925817, 0.29462566838137055, 0.977226278733229, 0.005490035273782185, 0.01098007054756437, 0.01098007054756437, 0.9798551722558778, 0.009947768246252566, 0.009947768246252566, 0.9246468074303831, 0.07280683523073882, 0.3075064111823056, 0.03194871804491487, 0.09983974389035896, 0.5630961555416246, 0.027576064436619255, 0.9697582660211105, 0.004596010739436543, 0.9763769635139522, 0.011353220505976189, 0.011353220505976189, 0.28874536085469005, 0.7040195877018847, 0.006488659794487416, 0.07381607903566366, 0.9227009879457957, 0.003690803951783183, 0.9856584519877419, 0.06838382687206757, 0.9231816627729121, 0.004283731565410327, 0.07710716817738589, 0.91671855499781, 0.004707068180881428, 0.9931913861659813, 0.9790273589260796, 0.02011700052587835, 0.9939065831636315, 0.9883322164617818, 0.9973348330676295, 0.47389841062201593, 0.09177080332680308, 0.39416312248561325, 0.040619863767601364, 0.9049187385205657, 0.08226533986550598, 0.01371088997758433, 0.9840584847050011, 0.9855230237378879, 0.2815320629452939, 0.014437541689502252, 0.7012520249186808, 0.0030937589334647684, 0.9938318132029905, 0.053343972774453664, 0.022861702617623, 0.9220886722441276, 0.003810283769603833, 0.3298845578888618, 0.07349759579907283, 0.5623420701836038, 0.03589417469257045, 0.5615176720298307, 0.4364402758904845, 0.17763120356791914, 0.702450668654953, 0.03229658246689439, 0.08612421991171837, 0.9954629818800212, 0.9922711440114976, 0.006320198369499984, 0.9964975591886883, 0.9912269936833927, 0.023787526654601127, 0.970531087507726, 0.004757505330920226, 0.31127752010356396, 0.6835898480705718, 0.9891381760210748, 0.01426924981141196, 0.9703089871760133, 0.8762196690418291, 0.11458257210546996, 0.006740151300321763, 0.9905522353217437, 0.9970941557280277, 0.9704538841721208, 0.0035543445761926, 0.9952164813339279, 0.9902584330530961, 0.004521728004808658, 0.23650706096427027, 0.7612571024787449, 0.8170843356666798, 0.16242817390089573, 0.0028248378069720996, 0.017655236293575623, 0.9968725979904941, 0.05141862511896457, 0.09073875020993748, 0.19660062545486454, 0.6593682515255457, 0.14373462682900492, 0.026741325921675333, 0.8222957720915165, 0.006685331480418833, 0.8878579074225347, 0.041239301710882754, 0.04609098426510426, 0.024258412771107504, 0.9973366152654988, 0.9962506704397365, 0.996653589496883, 0.9874335024375128, 0.07307208279973323, 0.6664173951335671, 0.26013661476705036, 0.9889426506657987, 0.07666443395977951, 0.7881103811065334, 0.07666443395977951, 0.06133154716782361, 0.35084574717961686, 0.09674837270710647, 0.41782538982299827, 0.13502245421761014, 0.9879538682962317, 0.9943574567859925, 0.4117637752269924, 0.17105390234269063, 0.37384976594484964, 0.044086057304817176, 0.25633144145102815, 0.01424063563616823, 0.7227122585355377, 0.0035601589090420577, 0.2534591554836004, 0.009875032031828586, 0.7241690156674295, 0.013166709375771447, 0.0050254204953731, 0.0050254204953731, 0.9849824170931277, 0.925289246976866, 0.0026512585873262637, 0.06893272327048286, 0.0026512585873262637, 0.8627862258553906, 0.1365560933008532, 0.7881254896225034, 0.15347706903175065, 0.01659211557100007, 0.04355430337387519, 0.9933360206416504, 0.32122162046115804, 0.6172233616299111, 0.03849349997261811, 0.023892517224383656, 0.9970872398879954, 0.3269080763783035, 0.6487867977354024, 0.015088065063614008, 0.007544032531807004, 0.17755856718395358, 0.028989153825951606, 0.054354663423659265, 0.7428470667900099, 0.06184634715791401, 0.9354260007634494, 0.991797839136078, 0.004796659745874407, 0.0671532364422417, 0.01918663898349763, 0.9113653517161374, 0.8626946766384076, 0.13635295800971792, 0.41815442291489163, 0.1445298844303149, 0.39710638149300115, 0.039289677320862304, 0.12516809044438088, 0.871067731459875, 0.0025544508253955277, 0.00781274489898331, 0.05468921429288317, 0.328135285757299, 0.6093941021206981, 0.021510169928551693, 0.9679576467848261, 0.6928463920222224, 0.11867394120279881, 0.16230406664500424, 0.027923280283011484, 0.9950410397005922, 0.9934342426849265, 0.9924809085567277, 0.9912785187828153, 0.4094103540859139, 0.005746110232784756, 0.41802951943509103, 0.16663719675075794, 0.6352921032864783, 0.03207003406013473, 0.30695604028986095, 0.024434311664864553, 0.9927170128345215], \"Term\": [\"abc\", \"abc\", \"abc\", \"adirondack\", \"adl\", \"afraid\", \"afraid\", \"agdam\", \"ahl\", \"ahl\", \"amiga\", \"animation\", \"apartment\", \"ar\", \"arab\", \"arab\", \"arabs\", \"arabs\", \"armenian\", \"armenian\", \"armenians\", \"armenians\", \"armenians\", \"available\", \"available\", \"available\", \"available\", \"azerbaijan\", \"azerbaijan\", \"azerbaijani\", \"azerbaijanis\", \"azeri\", \"azeri\", \"baku\", \"baku\", \"balcony\", \"baseball\", \"beat\", \"binghamton\", \"bit\", \"bit\", \"bit\", \"bit\", \"bos\", \"bosnia\", \"bosnian\", \"breton\", \"buf\", \"buf\", \"bullock\", \"cal\", \"cal\", \"cal\", \"came\", \"came\", \"came\", \"came\", \"cgy\", \"chi\", \"children\", \"children\", \"children\", \"code\", \"code\", \"code\", \"color\", \"color\", \"color\", \"come\", \"come\", \"come\", \"come\", \"comp\", \"comp\", \"compass\", \"computer\", \"computer\", \"countries\", \"countries\", \"courtyard\", \"crowd\", \"crowd\", \"czech\", \"data\", \"data\", \"data\", \"daughter\", \"den\", \"det\", \"diana\", \"directory\", \"directory\", \"display\", \"display\", \"display\", \"door\", \"door\", \"dos\", \"earth\", \"earth\", \"earth\", \"earth\", \"edm\", \"edu\", \"edu\", \"edu\", \"edu\", \"entryway\", \"espn\", \"ethnic\", \"faq\", \"faq\", \"faq\", \"father\", \"father\", \"file\", \"file\", \"file\", \"file\", \"files\", \"files\", \"files\", \"files\", \"flyers\", \"flyers\", \"format\", \"format\", \"formats\", \"fredericton\", \"ftp\", \"ftp\", \"game\", \"game\", \"game\", \"games\", \"games\", \"games\", \"gaza\", \"genocide\", \"genocide\", \"gerard\", \"gif\", \"gif\", \"gm\", \"going\", \"going\", \"going\", \"going\", \"good\", \"good\", \"good\", \"good\", \"got\", \"got\", \"got\", \"got\", \"government\", \"government\", \"government\", \"government\", \"graphics\", \"graphics\", \"greece\", \"greece\", \"greek\", \"greek\", \"greek\", \"henrik\", \"henrik\", \"hfd\", \"history\", \"history\", \"history\", \"history\", \"hockey\", \"hockey\", \"hojali\", \"home\", \"home\", \"home\", \"home\", \"hospital\", \"husband\", \"image\", \"image\", \"image\", \"images\", \"images\", \"info\", \"info\", \"info\", \"info\", \"information\", \"information\", \"information\", \"information\", \"interface\", \"israel\", \"israel\", \"israeli\", \"israelis\", \"istanbul\", \"jew\", \"jewish\", \"jewish\", \"jews\", \"jews\", \"jfif\", \"john\", \"john\", \"john\", \"john\", \"jpeg\", \"karabagh\", \"karabakh\", \"karabakh\", \"karabakh\", \"karina\", \"know\", \"know\", \"know\", \"know\", \"kuwait\", \"la\", \"la\", \"la\", \"la\", \"launch\", \"launch\", \"launch\", \"left\", \"left\", \"left\", \"left\", \"let\", \"let\", \"let\", \"let\", \"like\", \"like\", \"like\", \"like\", \"lunar\", \"lunar\", \"lyuda\", \"mail\", \"mail\", \"mail\", \"mail\", \"mamma\", \"marina\", \"mars\", \"mars\", \"microdistrict\", \"min\", \"min\", \"min\", \"mission\", \"mon\", \"mon\", \"mon\", \"moncton\", \"moon\", \"moon\", \"moon\", \"msdos\", \"mtl\", \"muslim\", \"muslim\", \"muslims\", \"muslims\", \"nagorno\", \"nasa\", \"nasa\", \"nasa\", \"nazis\", \"new\", \"new\", \"new\", \"new\", \"nhl\", \"nhl\", \"night\", \"night\", \"night\", \"nj\", \"nj\", \"nj\", \"nj\", \"nyi\", \"nyr\", \"occupied\", \"occupied\", \"orbit\", \"orbit\", \"orbiter\", \"ott\", \"ottoman\", \"ottoman\", \"package\", \"package\", \"package\", \"packages\", \"palestine\", \"palestinian\", \"palestinians\", \"palestinians\", \"pc\", \"pc\", \"peace\", \"peace\", \"pens\", \"people\", \"people\", \"people\", \"people\", \"period\", \"period\", \"period\", \"period\", \"phi\", \"phigs\", \"pit\", \"pit\", \"pixel\", \"play\", \"play\", \"play\", \"play\", \"policy\", \"policy\", \"policy\", \"policy\", \"political\", \"political\", \"political\", \"population\", \"population\", \"pp\", \"pp\", \"pp\", \"pp\", \"processing\", \"processing\", \"processing\", \"professor\", \"professor\", \"professor\", \"program\", \"program\", \"program\", \"programs\", \"programs\", \"programs\", \"providence\", \"pt\", \"pt\", \"pts\", \"pts\", \"pts\", \"pub\", \"pub\", \"puck\", \"puck\", \"que\", \"quicktime\", \"religious\", \"right\", \"right\", \"right\", \"right\", \"rights\", \"rights\", \"rights\", \"rochester\", \"rw\", \"said\", \"said\", \"said\", \"said\", \"satellites\", \"saw\", \"saw\", \"saw\", \"saw\", \"say\", \"say\", \"say\", \"say\", \"season\", \"season\", \"send\", \"send\", \"send\", \"send\", \"serbs\", \"server\", \"server\", \"sgi\", \"shareware\", \"shot\", \"shot\", \"shot\", \"shots\", \"shots\", \"shouted\", \"shouting\", \"shouting\", \"shuttle\", \"shuttle\", \"shuttle\", \"siggraph\", \"sj\", \"slot\", \"software\", \"software\", \"solar\", \"solar\", \"soldiers\", \"soldiers\", \"space\", \"space\", \"space\", \"space\", \"spacecraft\", \"st\", \"st\", \"st\", \"st\", \"started\", \"started\", \"started\", \"started\", \"state\", \"state\", \"state\", \"state\", \"stl\", \"sumgait\", \"tar\", \"tb\", \"team\", \"team\", \"team\", \"territories\", \"thanks\", \"thanks\", \"thanks\", \"thanks\", \"think\", \"think\", \"think\", \"think\", \"threw\", \"tiff\", \"time\", \"time\", \"time\", \"time\", \"told\", \"told\", \"told\", \"told\", \"took\", \"took\", \"took\", \"took\", \"tor\", \"tor\", \"tor\", \"turkey\", \"turkey\", \"turkey\", \"turkey\", \"turkish\", \"turkish\", \"university\", \"university\", \"university\", \"university\", \"unix\", \"use\", \"use\", \"use\", \"use\", \"user\", \"using\", \"using\", \"using\", \"using\", \"van\", \"van\", \"van\", \"van\", \"version\", \"version\", \"viewer\", \"vs\", \"vs\", \"vs\", \"vs\", \"war\", \"war\", \"way\", \"way\", \"way\", \"way\", \"went\", \"went\", \"went\", \"win\", \"win\", \"win\", \"win\", \"woman\", \"woman\", \"world\", \"world\", \"world\", \"world\", \"wpg\", \"wsh\", \"xv\", \"yassin\", \"year\", \"year\", \"year\", \"year\", \"years\", \"years\", \"years\", \"years\", \"zip\"]}, \"R\": 30, \"lambda.step\": 0.01, \"plot.opts\": {\"xlab\": \"PC1\", \"ylab\": \"PC2\"}, \"topic.order\": [1, 4, 3, 2]};\n",
              "\n",
              "function LDAvis_load_lib(url, callback){\n",
              "  var s = document.createElement('script');\n",
              "  s.src = url;\n",
              "  s.async = true;\n",
              "  s.onreadystatechange = s.onload = callback;\n",
              "  s.onerror = function(){console.warn(\"failed to load library \" + url);};\n",
              "  document.getElementsByTagName(\"head\")[0].appendChild(s);\n",
              "}\n",
              "\n",
              "if(typeof(LDAvis) !== \"undefined\"){\n",
              "   // already loaded: just create the visualization\n",
              "   !function(LDAvis){\n",
              "       new LDAvis(\"#\" + \"ldavis_el2201340571018562087490953238\", ldavis_el2201340571018562087490953238_data);\n",
              "   }(LDAvis);\n",
              "}else if(typeof define === \"function\" && define.amd){\n",
              "   // require.js is available: use it to load d3/LDAvis\n",
              "   require.config({paths: {d3: \"https://d3js.org/d3.v5\"}});\n",
              "   require([\"d3\"], function(d3){\n",
              "      window.d3 = d3;\n",
              "      LDAvis_load_lib(\"https://cdn.jsdelivr.net/gh/bmabey/pyLDAvis@3.4.0/pyLDAvis/js/ldavis.v3.0.0.js\", function(){\n",
              "        new LDAvis(\"#\" + \"ldavis_el2201340571018562087490953238\", ldavis_el2201340571018562087490953238_data);\n",
              "      });\n",
              "    });\n",
              "}else{\n",
              "    // require.js not available: dynamically load d3 & LDAvis\n",
              "    LDAvis_load_lib(\"https://d3js.org/d3.v5.js\", function(){\n",
              "         LDAvis_load_lib(\"https://cdn.jsdelivr.net/gh/bmabey/pyLDAvis@3.4.0/pyLDAvis/js/ldavis.v3.0.0.js\", function(){\n",
              "                 new LDAvis(\"#\" + \"ldavis_el2201340571018562087490953238\", ldavis_el2201340571018562087490953238_data);\n",
              "            })\n",
              "         });\n",
              "}\n",
              "</script>"
            ]
          },
          "metadata": {},
          "execution_count": 61
        }
      ]
    },
    {
      "cell_type": "code",
      "source": [],
      "metadata": {
        "id": "dwI6CU_tEFCH"
      },
      "execution_count": null,
      "outputs": []
    }
  ]
}